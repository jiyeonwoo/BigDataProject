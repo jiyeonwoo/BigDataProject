{
  "nbformat": 4,
  "nbformat_minor": 0,
  "metadata": {
    "colab": {
      "provenance": []
    },
    "kernelspec": {
      "name": "python3",
      "display_name": "Python 3"
    },
    "language_info": {
      "name": "python"
    },
    "widgets": {
      "application/vnd.jupyter.widget-state+json": {
        "d43ede342d634c0a94759c9d4999ba10": {
          "model_module": "@jupyter-widgets/controls",
          "model_name": "VBoxModel",
          "model_module_version": "1.5.0",
          "state": {
            "_dom_classes": [],
            "_model_module": "@jupyter-widgets/controls",
            "_model_module_version": "1.5.0",
            "_model_name": "VBoxModel",
            "_view_count": null,
            "_view_module": "@jupyter-widgets/controls",
            "_view_module_version": "1.5.0",
            "_view_name": "VBoxView",
            "box_style": "",
            "children": [
              "IPY_MODEL_e7efc27f8c8e40f483078a41e9a71753",
              "IPY_MODEL_1f2e6cad34224a00aee3d236c83d206b",
              "IPY_MODEL_59af0fe33ec94214a3a5af804a77ca78",
              "IPY_MODEL_d1842c311bf34be084b78be7a0d42eb7",
              "IPY_MODEL_177a45a059d3404da531d3c7b7c03460",
              "IPY_MODEL_f84e51d0e10e4efc84ff790f379d5e18",
              "IPY_MODEL_0cc050abf9d84b94a8898bf3e068173a",
              "IPY_MODEL_2883e9b7b7ac459a84bb7f33005fcec7"
            ],
            "layout": "IPY_MODEL_6113f10c80c640d480dfb2cc943b9d0a"
          }
        },
        "e7efc27f8c8e40f483078a41e9a71753": {
          "model_module": "@jupyter-widgets/controls",
          "model_name": "HTMLModel",
          "model_module_version": "1.5.0",
          "state": {
            "_dom_classes": [],
            "_model_module": "@jupyter-widgets/controls",
            "_model_module_version": "1.5.0",
            "_model_name": "HTMLModel",
            "_view_count": null,
            "_view_module": "@jupyter-widgets/controls",
            "_view_module_version": "1.5.0",
            "_view_name": "HTMLView",
            "description": "",
            "description_tooltip": null,
            "layout": "IPY_MODEL_79f1e3fbfb024653a5daf56926a47e82",
            "placeholder": "​",
            "style": "IPY_MODEL_34cd979190ba4eb585775ec24bd3cac8",
            "value": "<h2>🅿️ Smart Parking Finder - ML Enhanced</h2>"
          }
        },
        "1f2e6cad34224a00aee3d236c83d206b": {
          "model_module": "@jupyter-widgets/controls",
          "model_name": "DropdownModel",
          "model_module_version": "1.5.0",
          "state": {
            "_dom_classes": [],
            "_model_module": "@jupyter-widgets/controls",
            "_model_module_version": "1.5.0",
            "_model_name": "DropdownModel",
            "_options_labels": [
              "Bayview Hunters Point",
              "Bernal Heights",
              "Castro/Upper Market",
              "Chinatown",
              "Excelsior",
              "Financial District/South Beach",
              "Glen Park",
              "Golden Gate Park",
              "Haight Ashbury",
              "Hayes Valley",
              "Inner Richmond",
              "Inner Sunset",
              "Japantown",
              "Lakeshore",
              "Lone Mountain/USF",
              "Marina",
              "Mission",
              "Mission Bay",
              "Nob Hill",
              "Noe Valley",
              "North Beach",
              "Oceanview/Merced/Ingleside",
              "Outer Mission",
              "Outer Richmond",
              "Pacific Heights",
              "Portola",
              "Potrero Hill",
              "Presidio Heights",
              "Russian Hill",
              "South of Market",
              "Sunset/Parkside",
              "Tenderloin",
              "Visitacion Valley",
              "West of Twin Peaks",
              "Western Addition"
            ],
            "_view_count": null,
            "_view_module": "@jupyter-widgets/controls",
            "_view_module_version": "1.5.0",
            "_view_name": "DropdownView",
            "description": "Neighborhood:",
            "description_tooltip": null,
            "disabled": false,
            "index": 11,
            "layout": "IPY_MODEL_dc49668efa8443ac8a98e5d7434beffa",
            "style": "IPY_MODEL_e47b36fe6f7b47afbad09422df1acea1"
          }
        },
        "59af0fe33ec94214a3a5af804a77ca78": {
          "model_module": "@jupyter-widgets/controls",
          "model_name": "DatePickerModel",
          "model_module_version": "1.5.0",
          "state": {
            "_dom_classes": [],
            "_model_module": "@jupyter-widgets/controls",
            "_model_module_version": "1.5.0",
            "_model_name": "DatePickerModel",
            "_view_count": null,
            "_view_module": "@jupyter-widgets/controls",
            "_view_module_version": "1.5.0",
            "_view_name": "DatePickerView",
            "description": "Date:",
            "description_tooltip": null,
            "disabled": false,
            "layout": "IPY_MODEL_1817539027654a309ccd2f6d6c1ee2c5",
            "style": "IPY_MODEL_5bb3c8350ed44d11a6b4cedec98aa844",
            "value": {
              "year": 2025,
              "month": 4,
              "date": 28
            }
          }
        },
        "d1842c311bf34be084b78be7a0d42eb7": {
          "model_module": "@jupyter-widgets/controls",
          "model_name": "IntSliderModel",
          "model_module_version": "1.5.0",
          "state": {
            "_dom_classes": [],
            "_model_module": "@jupyter-widgets/controls",
            "_model_module_version": "1.5.0",
            "_model_name": "IntSliderModel",
            "_view_count": null,
            "_view_module": "@jupyter-widgets/controls",
            "_view_module_version": "1.5.0",
            "_view_name": "IntSliderView",
            "continuous_update": true,
            "description": "Hour:",
            "description_tooltip": null,
            "disabled": false,
            "layout": "IPY_MODEL_346035dd46af4163805592196d1f0ae0",
            "max": 23,
            "min": 0,
            "orientation": "horizontal",
            "readout": true,
            "readout_format": "d",
            "step": 1,
            "style": "IPY_MODEL_1a5026c202c141e9930c5a5b4f137fed",
            "value": 12
          }
        },
        "177a45a059d3404da531d3c7b7c03460": {
          "model_module": "@jupyter-widgets/controls",
          "model_name": "FloatTextModel",
          "model_module_version": "1.5.0",
          "state": {
            "_dom_classes": [],
            "_model_module": "@jupyter-widgets/controls",
            "_model_module_version": "1.5.0",
            "_model_name": "FloatTextModel",
            "_view_count": null,
            "_view_module": "@jupyter-widgets/controls",
            "_view_module_version": "1.5.0",
            "_view_name": "FloatTextView",
            "continuous_update": false,
            "description": "Dest. Latitude:",
            "description_tooltip": null,
            "disabled": false,
            "layout": "IPY_MODEL_cf186f83199b4e3281730dea930d3d3d",
            "step": null,
            "style": "IPY_MODEL_48ca92291c884898a699c6209c0e2231",
            "value": 37.7699
          }
        },
        "f84e51d0e10e4efc84ff790f379d5e18": {
          "model_module": "@jupyter-widgets/controls",
          "model_name": "FloatTextModel",
          "model_module_version": "1.5.0",
          "state": {
            "_dom_classes": [],
            "_model_module": "@jupyter-widgets/controls",
            "_model_module_version": "1.5.0",
            "_model_name": "FloatTextModel",
            "_view_count": null,
            "_view_module": "@jupyter-widgets/controls",
            "_view_module_version": "1.5.0",
            "_view_name": "FloatTextView",
            "continuous_update": false,
            "description": "Dest. Longitude:",
            "description_tooltip": null,
            "disabled": false,
            "layout": "IPY_MODEL_ef27fc99a41d497e8c3fafd42aefb110",
            "step": null,
            "style": "IPY_MODEL_07508806e9d34ecbaf0a06cff1fb995b",
            "value": -122.4661
          }
        },
        "0cc050abf9d84b94a8898bf3e068173a": {
          "model_module": "@jupyter-widgets/controls",
          "model_name": "ButtonModel",
          "model_module_version": "1.5.0",
          "state": {
            "_dom_classes": [],
            "_model_module": "@jupyter-widgets/controls",
            "_model_module_version": "1.5.0",
            "_model_name": "ButtonModel",
            "_view_count": null,
            "_view_module": "@jupyter-widgets/controls",
            "_view_module_version": "1.5.0",
            "_view_name": "ButtonView",
            "button_style": "success",
            "description": "🔍 Find Parking",
            "disabled": false,
            "icon": "",
            "layout": "IPY_MODEL_7dbf5aa33ce7463c8767f8b8c241ee65",
            "style": "IPY_MODEL_4fe5e8787a7343f896e8e1e7f480fb94",
            "tooltip": ""
          }
        },
        "2883e9b7b7ac459a84bb7f33005fcec7": {
          "model_module": "@jupyter-widgets/output",
          "model_name": "OutputModel",
          "model_module_version": "1.0.0",
          "state": {
            "_dom_classes": [],
            "_model_module": "@jupyter-widgets/output",
            "_model_module_version": "1.0.0",
            "_model_name": "OutputModel",
            "_view_count": null,
            "_view_module": "@jupyter-widgets/output",
            "_view_module_version": "1.0.0",
            "_view_name": "OutputView",
            "layout": "IPY_MODEL_bab2ba2e5385473884f2ade899d7116e",
            "msg_id": "",
            "outputs": [
              {
                "output_type": "stream",
                "name": "stdout",
                "text": [
                  "🔍 ML-FIXED Search: Inner Sunset on 2025-05-28 at 12:00\n",
                  "📊 Loading parking meter dataset...\n"
                ]
              },
              {
                "output_type": "stream",
                "name": "stdout",
                "text": [
                  "📥 Loaded batch: 37819 records (Total: 37819)\n"
                ]
              },
              {
                "output_type": "stream",
                "name": "stdout",
                "text": [
                  "✅ Loaded 37819 parking meters\n",
                  "🎯 Generating realistic occupancy patterns...\n"
                ]
              },
              {
                "output_type": "stream",
                "name": "stdout",
                "text": [
                  "✅ Realistic occupancy simulation complete:\n",
                  "   📊 Total meters: 37,819\n",
                  "   🚗 Occupied: 29,932 (79.1%)\n",
                  "   🅿️ Available: 7,887 (20.9%)\n",
                  "   ⏰ Time: 12:00 (Weekday)\n"
                ]
              },
              {
                "output_type": "stream",
                "name": "stdout",
                "text": [
                  "   🏘️ Neighborhoods with available spots: 35\n",
                  "🧠 Training improved ML model...\n"
                ]
              },
              {
                "output_type": "stream",
                "name": "stdout",
                "text": [
                  "🧠 Training improved model: 37819 samples\n",
                  "📊 Training data: 79.1% occupied, 20.9% available\n"
                ]
              },
              {
                "output_type": "stream",
                "name": "stderr",
                "text": [
                  "/usr/local/lib/python3.11/dist-packages/keras/src/layers/core/dense.py:87: UserWarning: Do not pass an `input_shape`/`input_dim` argument to a layer. When using Sequential models, prefer using an `Input(shape)` object as the first layer in the model instead.\n",
                  "  super().__init__(activity_regularizer=activity_regularizer, **kwargs)\n"
                ]
              },
              {
                "output_type": "stream",
                "name": "stdout",
                "text": [
                  "Epoch 1/30\n"
                ]
              },
              {
                "output_type": "stream",
                "name": "stdout",
                "text": [
                  "\r\u001b[1m  1/119\u001b[0m \u001b[37m━━━━━━━━━━━━━━━━━━━━\u001b[0m \u001b[1m8:56\u001b[0m 5s/step - accuracy: 0.4102 - loss: 3.1892 - precision: 0.7264 - recall: 0.3869"
                ]
              },
              {
                "output_type": "stream",
                "name": "stdout",
                "text": [
                  "\b\b\b\b\b\b\b\b\b\b\b\b\b\b\b\b\b\b\b\b\b\b\b\b\b\b\b\b\b\b\b\b\b\b\b\b\b\b\b\b\b\b\b\b\b\b\b\b\b\b\b\b\b\b\b\b\b\b\b\b\b\b\b\b\b\b\b\b\b\b\b\b\b\b\b\b\b\b\b\b\b\b\b\b\b\b\b\b\b\b\b\b\b\b\b\b\b\b\b\b\b\b\b\b\b\b\b\b\b\b\b\b\r\u001b[1m 10/119\u001b[0m \u001b[32m━\u001b[0m\u001b[37m━━━━━━━━━━━━━━━━━━━\u001b[0m \u001b[1m0s\u001b[0m 6ms/step - accuracy: 0.4688 - loss: 2.6128 - precision: 0.7612 - recall: 0.4636 "
                ]
              },
              {
                "output_type": "stream",
                "name": "stdout",
                "text": [
                  "\b\b\b\b\b\b\b\b\b\b\b\b\b\b\b\b\b\b\b\b\b\b\b\b\b\b\b\b\b\b\b\b\b\b\b\b\b\b\b\b\b\b\b\b\b\b\b\b\b\b\b\b\b\b\b\b\b\b\b\b\b\b\b\b\b\b\b\b\b\b\b\b\b\b\b\b\b\b\b\b\b\b\b\b\b\b\b\b\b\b\b\b\b\b\b\b\b\b\b\b\b\b\b\b\b\b\b\b\b\b\b\r\u001b[1m 20/119\u001b[0m \u001b[32m━━━\u001b[0m\u001b[37m━━━━━━━━━━━━━━━━━\u001b[0m \u001b[1m0s\u001b[0m 5ms/step - accuracy: 0.4868 - loss: 2.3150 - precision: 0.7715 - recall: 0.4881"
                ]
              },
              {
                "output_type": "stream",
                "name": "stdout",
                "text": [
                  "\b\b\b\b\b\b\b\b\b\b\b\b\b\b\b\b\b\b\b\b\b\b\b\b\b\b\b\b\b\b\b\b\b\b\b\b\b\b\b\b\b\b\b\b\b\b\b\b\b\b\b\b\b\b\b\b\b\b\b\b\b\b\b\b\b\b\b\b\b\b\b\b\b\b\b\b\b\b\b\b\b\b\b\b\b\b\b\b\b\b\b\b\b\b\b\b\b\b\b\b\b\b\b\b\b\b\b\b\b\b\b\r\u001b[1m 31/119\u001b[0m \u001b[32m━━━━━\u001b[0m\u001b[37m━━━━━━━━━━━━━━━\u001b[0m \u001b[1m0s\u001b[0m 5ms/step - accuracy: 0.4969 - loss: 2.0996 - precision: 0.7797 - recall: 0.5006"
                ]
              },
              {
                "output_type": "stream",
                "name": "stdout",
                "text": [
                  "\b\b\b\b\b\b\b\b\b\b\b\b\b\b\b\b\b\b\b\b\b\b\b\b\b\b\b\b\b\b\b\b\b\b\b\b\b\b\b\b\b\b\b\b\b\b\b\b\b\b\b\b\b\b\b\b\b\b\b\b\b\b\b\b\b\b\b\b\b\b\b\b\b\b\b\b\b\b\b\b\b\b\b\b\b\b\b\b\b\b\b\b\b\b\b\b\b\b\b\b\b\b\b\b\b\b\b\b\b\b\b\r\u001b[1m 43/119\u001b[0m \u001b[32m━━━━━━━\u001b[0m\u001b[37m━━━━━━━━━━━━━\u001b[0m \u001b[1m0s\u001b[0m 5ms/step - accuracy: 0.4999 - loss: 1.9370 - precision: 0.7822 - recall: 0.5039"
                ]
              },
              {
                "output_type": "stream",
                "name": "stdout",
                "text": [
                  "\b\b\b\b\b\b\b\b\b\b\b\b\b\b\b\b\b\b\b\b\b\b\b\b\b\b\b\b\b\b\b\b\b\b\b\b\b\b\b\b\b\b\b\b\b\b\b\b\b\b\b\b\b\b\b\b\b\b\b\b\b\b\b\b\b\b\b\b\b\b\b\b\b\b\b\b\b\b\b\b\b\b\b\b\b\b\b\b\b\b\b\b\b\b\b\b\b\b\b\b\b\b\b\b\b\b\b\b\b\b\b\r\u001b[1m 52/119\u001b[0m \u001b[32m━━━━━━━━\u001b[0m\u001b[37m━━━━━━━━━━━━\u001b[0m \u001b[1m0s\u001b[0m 5ms/step - accuracy: 0.5001 - loss: 1.8428 - precision: 0.7833 - recall: 0.5038"
                ]
              },
              {
                "output_type": "stream",
                "name": "stdout",
                "text": [
                  "\b\b\b\b\b\b\b\b\b\b\b\b\b\b\b\b\b\b\b\b\b\b\b\b\b\b\b\b\b\b\b\b\b\b\b\b\b\b\b\b\b\b\b\b\b\b\b\b\b\b\b\b\b\b\b\b\b\b\b\b\b\b\b\b\b\b\b\b\b\b\b\b\b\b\b\b\b\b\b\b\b\b\b\b\b\b\b\b\b\b\b\b\b\b\b\b\b\b\b\b\b\b\b\b\b\b\b\b\b\b\b\r\u001b[1m 63/119\u001b[0m \u001b[32m━━━━━━━━━━\u001b[0m\u001b[37m━━━━━━━━━━\u001b[0m \u001b[1m0s\u001b[0m 5ms/step - accuracy: 0.5004 - loss: 1.7493 - precision: 0.7839 - recall: 0.5039"
                ]
              },
              {
                "output_type": "stream",
                "name": "stdout",
                "text": [
                  "\b\b\b\b\b\b\b\b\b\b\b\b\b\b\b\b\b\b\b\b\b\b\b\b\b\b\b\b\b\b\b\b\b\b\b\b\b\b\b\b\b\b\b\b\b\b\b\b\b\b\b\b\b\b\b\b\b\b\b\b\b\b\b\b\b\b\b\b\b\b\b\b\b\b\b\b\b\b\b\b\b\b\b\b\b\b\b\b\b\b\b\b\b\b\b\b\b\b\b\b\b\b\b\b\b\b\b\b\b\b\b\r\u001b[1m 74/119\u001b[0m \u001b[32m━━━━━━━━━━━━\u001b[0m\u001b[37m━━━━━━━━\u001b[0m \u001b[1m0s\u001b[0m 5ms/step - accuracy: 0.4996 - loss: 1.6729 - precision: 0.7841 - recall: 0.5025"
                ]
              },
              {
                "output_type": "stream",
                "name": "stdout",
                "text": [
                  "\b\b\b\b\b\b\b\b\b\b\b\b\b\b\b\b\b\b\b\b\b\b\b\b\b\b\b\b\b\b\b\b\b\b\b\b\b\b\b\b\b\b\b\b\b\b\b\b\b\b\b\b\b\b\b\b\b\b\b\b\b\b\b\b\b\b\b\b\b\b\b\b\b\b\b\b\b\b\b\b\b\b\b\b\b\b\b\b\b\b\b\b\b\b\b\b\b\b\b\b\b\b\b\b\b\b\b\b\b\b\b\r\u001b[1m 85/119\u001b[0m \u001b[32m━━━━━━━━━━━━━━\u001b[0m\u001b[37m━━━━━━\u001b[0m \u001b[1m0s\u001b[0m 5ms/step - accuracy: 0.4990 - loss: 1.6088 - precision: 0.7840 - recall: 0.5017"
                ]
              },
              {
                "output_type": "stream",
                "name": "stdout",
                "text": [
                  "\b\b\b\b\b\b\b\b\b\b\b\b\b\b\b\b\b\b\b\b\b\b\b\b\b\b\b\b\b\b\b\b\b\b\b\b\b\b\b\b\b\b\b\b\b\b\b\b\b\b\b\b\b\b\b\b\b\b\b\b\b\b\b\b\b\b\b\b\b\b\b\b\b\b\b\b\b\b\b\b\b\b\b\b\b\b\b\b\b\b\b\b\b\b\b\b\b\b\b\b\b\b\b\b\b\b\b\b\b\b\b\r\u001b[1m 96/119\u001b[0m \u001b[32m━━━━━━━━━━━━━━━━\u001b[0m\u001b[37m━━━━\u001b[0m \u001b[1m0s\u001b[0m 5ms/step - accuracy: 0.4986 - loss: 1.5538 - precision: 0.7840 - recall: 0.5012"
                ]
              },
              {
                "output_type": "stream",
                "name": "stdout",
                "text": [
                  "\b\b\b\b\b\b\b\b\b\b\b\b\b\b\b\b\b\b\b\b\b\b\b\b\b\b\b\b\b\b\b\b\b\b\b\b\b\b\b\b\b\b\b\b\b\b\b\b\b\b\b\b\b\b\b\b\b\b\b\b\b\b\b\b\b\b\b\b\b\b\b\b\b\b\b\b\b\b\b\b\b\b\b\b\b\b\b\b\b\b\b\b\b\b\b\b\b\b\b\b\b\b\b\b\b\b\b\b\b\b\b\r\u001b[1m107/119\u001b[0m \u001b[32m━━━━━━━━━━━━━━━━━\u001b[0m\u001b[37m━━━\u001b[0m \u001b[1m0s\u001b[0m 5ms/step - accuracy: 0.4986 - loss: 1.5058 - precision: 0.7842 - recall: 0.5012"
                ]
              },
              {
                "output_type": "stream",
                "name": "stdout",
                "text": [
                  "\b\b\b\b\b\b\b\b\b\b\b\b\b\b\b\b\b\b\b\b\b\b\b\b\b\b\b\b\b\b\b\b\b\b\b\b\b\b\b\b\b\b\b\b\b\b\b\b\b\b\b\b\b\b\b\b\b\b\b\b\b\b\b\b\b\b\b\b\b\b\b\b\b\b\b\b\b\b\b\b\b\b\b\b\b\b\b\b\b\b\b\b\b\b\b\b\b\b\b\b\b\b\b\b\b\b\b\b\b\b\b\r\u001b[1m113/119\u001b[0m \u001b[32m━━━━━━━━━━━━━━━━━━\u001b[0m\u001b[37m━━\u001b[0m \u001b[1m0s\u001b[0m 5ms/step - accuracy: 0.4988 - loss: 1.4822 - precision: 0.7843 - recall: 0.5016"
                ]
              },
              {
                "output_type": "stream",
                "name": "stdout",
                "text": [
                  "\b\b\b\b\b\b\b\b\b\b\b\b\b\b\b\b\b\b\b\b\b\b\b\b\b\b\b\b\b\b\b\b\b\b\b\b\b\b\b\b\b\b\b\b\b\b\b\b\b\b\b\b\b\b\b\b\b\b\b\b\b\b\b\b\b\b\b\b\b\b\b\b\b\b\b\b\b\b\b\b\b\b\b\b\b\b\b\b\b\b\b\b\b\b\b\b\b\b\b\b\b\b\b\b\b\b\b\b\b\b\b\r\u001b[1m119/119\u001b[0m \u001b[32m━━━━━━━━━━━━━━━━━━━━\u001b[0m\u001b[37m\u001b[0m \u001b[1m6s\u001b[0m 12ms/step - accuracy: 0.4990 - loss: 1.4565 - precision: 0.7845 - recall: 0.5020 - val_accuracy: 0.7915 - val_loss: 0.6419 - val_precision: 0.7915 - val_recall: 1.0000\n"
                ]
              },
              {
                "output_type": "stream",
                "name": "stdout",
                "text": [
                  "Epoch 2/30\n"
                ]
              },
              {
                "output_type": "stream",
                "name": "stdout",
                "text": [
                  "\r\u001b[1m  1/119\u001b[0m \u001b[37m━━━━━━━━━━━━━━━━━━━━\u001b[0m \u001b[1m5s\u001b[0m 45ms/step - accuracy: 0.5977 - loss: 0.7503 - precision: 0.7836 - recall: 0.6700"
                ]
              },
              {
                "output_type": "stream",
                "name": "stdout",
                "text": [
                  "\b\b\b\b\b\b\b\b\b\b\b\b\b\b\b\b\b\b\b\b\b\b\b\b\b\b\b\b\b\b\b\b\b\b\b\b\b\b\b\b\b\b\b\b\b\b\b\b\b\b\b\b\b\b\b\b\b\b\b\b\b\b\b\b\b\b\b\b\b\b\b\b\b\b\b\b\b\b\b\b\b\b\b\b\b\b\b\b\b\b\b\b\b\b\b\b\b\b\b\b\b\b\b\b\b\b\b\b\b\b\b\b\r\u001b[1m 10/119\u001b[0m \u001b[32m━\u001b[0m\u001b[37m━━━━━━━━━━━━━━━━━━━\u001b[0m \u001b[1m0s\u001b[0m 6ms/step - accuracy: 0.5781 - loss: 0.7299 - precision: 0.7943 - recall: 0.6319 "
                ]
              },
              {
                "output_type": "stream",
                "name": "stdout",
                "text": [
                  "\b\b\b\b\b\b\b\b\b\b\b\b\b\b\b\b\b\b\b\b\b\b\b\b\b\b\b\b\b\b\b\b\b\b\b\b\b\b\b\b\b\b\b\b\b\b\b\b\b\b\b\b\b\b\b\b\b\b\b\b\b\b\b\b\b\b\b\b\b\b\b\b\b\b\b\b\b\b\b\b\b\b\b\b\b\b\b\b\b\b\b\b\b\b\b\b\b\b\b\b\b\b\b\b\b\b\b\b\b\b\b\r\u001b[1m 19/119\u001b[0m \u001b[32m━━━\u001b[0m\u001b[37m━━━━━━━━━━━━━━━━━\u001b[0m \u001b[1m0s\u001b[0m 6ms/step - accuracy: 0.5510 - loss: 0.7280 - precision: 0.7931 - recall: 0.5903"
                ]
              },
              {
                "output_type": "stream",
                "name": "stdout",
                "text": [
                  "\b\b\b\b\b\b\b\b\b\b\b\b\b\b\b\b\b\b\b\b\b\b\b\b\b\b\b\b\b\b\b\b\b\b\b\b\b\b\b\b\b\b\b\b\b\b\b\b\b\b\b\b\b\b\b\b\b\b\b\b\b\b\b\b\b\b\b\b\b\b\b\b\b\b\b\b\b\b\b\b\b\b\b\b\b\b\b\b\b\b\b\b\b\b\b\b\b\b\b\b\b\b\b\b\b\b\b\b\b\b\b\r\u001b[1m 29/119\u001b[0m \u001b[32m━━━━\u001b[0m\u001b[37m━━━━━━━━━━━━━━━━\u001b[0m \u001b[1m0s\u001b[0m 6ms/step - accuracy: 0.5441 - loss: 0.7252 - precision: 0.7924 - recall: 0.5803"
                ]
              },
              {
                "output_type": "stream",
                "name": "stdout",
                "text": [
                  "\b\b\b\b\b\b\b\b\b\b\b\b\b\b\b\b\b\b\b\b\b\b\b\b\b\b\b\b\b\b\b\b\b\b\b\b\b\b\b\b\b\b\b\b\b\b\b\b\b\b\b\b\b\b\b\b\b\b\b\b\b\b\b\b\b\b\b\b\b\b\b\b\b\b\b\b\b\b\b\b\b\b\b\b\b\b\b\b\b\b\b\b\b\b\b\b\b\b\b\b\b\b\b\b\b\b\b\b\b\b\b\r\u001b[1m 40/119\u001b[0m \u001b[32m━━━━━━\u001b[0m\u001b[37m━━━━━━━━━━━━━━\u001b[0m \u001b[1m0s\u001b[0m 6ms/step - accuracy: 0.5396 - loss: 0.7237 - precision: 0.7916 - recall: 0.5736"
                ]
              },
              {
                "output_type": "stream",
                "name": "stdout",
                "text": [
                  "\b\b\b\b\b\b\b\b\b\b\b\b\b\b\b\b\b\b\b\b\b\b\b\b\b\b\b\b\b\b\b\b\b\b\b\b\b\b\b\b\b\b\b\b\b\b\b\b\b\b\b\b\b\b\b\b\b\b\b\b\b\b\b\b\b\b\b\b\b\b\b\b\b\b\b\b\b\b\b\b\b\b\b\b\b\b\b\b\b\b\b\b\b\b\b\b\b\b\b\b\b\b\b\b\b\b\b\b\b\b\b\r\u001b[1m 50/119\u001b[0m \u001b[32m━━━━━━━━\u001b[0m\u001b[37m━━━━━━━━━━━━\u001b[0m \u001b[1m0s\u001b[0m 6ms/step - accuracy: 0.5376 - loss: 0.7222 - precision: 0.7915 - recall: 0.5702"
                ]
              },
              {
                "output_type": "stream",
                "name": "stdout",
                "text": [
                  "\b\b\b\b\b\b\b\b\b\b\b\b\b\b\b\b\b\b\b\b\b\b\b\b\b\b\b\b\b\b\b\b\b\b\b\b\b\b\b\b\b\b\b\b\b\b\b\b\b\b\b\b\b\b\b\b\b\b\b\b\b\b\b\b\b\b\b\b\b\b\b\b\b\b\b\b\b\b\b\b\b\b\b\b\b\b\b\b\b\b\b\b\b\b\b\b\b\b\b\b\b\b\b\b\b\b\b\b\b\b\b\r\u001b[1m 60/119\u001b[0m \u001b[32m━━━━━━━━━━\u001b[0m\u001b[37m━━━━━━━━━━\u001b[0m \u001b[1m0s\u001b[0m 5ms/step - accuracy: 0.5372 - loss: 0.7206 - precision: 0.7918 - recall: 0.5693"
                ]
              },
              {
                "output_type": "stream",
                "name": "stdout",
                "text": [
                  "\b\b\b\b\b\b\b\b\b\b\b\b\b\b\b\b\b\b\b\b\b\b\b\b\b\b\b\b\b\b\b\b\b\b\b\b\b\b\b\b\b\b\b\b\b\b\b\b\b\b\b\b\b\b\b\b\b\b\b\b\b\b\b\b\b\b\b\b\b\b\b\b\b\b\b\b\b\b\b\b\b\b\b\b\b\b\b\b\b\b\b\b\b\b\b\b\b\b\b\b\b\b\b\b\b\b\b\b\b\b\b\r\u001b[1m 70/119\u001b[0m \u001b[32m━━━━━━━━━━━\u001b[0m\u001b[37m━━━━━━━━━\u001b[0m \u001b[1m0s\u001b[0m 5ms/step - accuracy: 0.5362 - loss: 0.7198 - precision: 0.7918 - recall: 0.5674"
                ]
              },
              {
                "output_type": "stream",
                "name": "stdout",
                "text": [
                  "\b\b\b\b\b\b\b\b\b\b\b\b\b\b\b\b\b\b\b\b\b\b\b\b\b\b\b\b\b\b\b\b\b\b\b\b\b\b\b\b\b\b\b\b\b\b\b\b\b\b\b\b\b\b\b\b\b\b\b\b\b\b\b\b\b\b\b\b\b\b\b\b\b\b\b\b\b\b\b\b\b\b\b\b\b\b\b\b\b\b\b\b\b\b\b\b\b\b\b\b\b\b\b\b\b\b\b\b\b\b\b\r\u001b[1m 81/119\u001b[0m \u001b[32m━━━━━━━━━━━━━\u001b[0m\u001b[37m━━━━━━━\u001b[0m \u001b[1m0s\u001b[0m 5ms/step - accuracy: 0.5331 - loss: 0.7194 - precision: 0.7915 - recall: 0.5619"
                ]
              },
              {
                "output_type": "stream",
                "name": "stdout",
                "text": [
                  "\b\b\b\b\b\b\b\b\b\b\b\b\b\b\b\b\b\b\b\b\b\b\b\b\b\b\b\b\b\b\b\b\b\b\b\b\b\b\b\b\b\b\b\b\b\b\b\b\b\b\b\b\b\b\b\b\b\b\b\b\b\b\b\b\b\b\b\b\b\b\b\b\b\b\b\b\b\b\b\b\b\b\b\b\b\b\b\b\b\b\b\b\b\b\b\b\b\b\b\b\b\b\b\b\b\b\b\b\b\b\b\r\u001b[1m 93/119\u001b[0m \u001b[32m━━━━━━━━━━━━━━━\u001b[0m\u001b[37m━━━━━\u001b[0m \u001b[1m0s\u001b[0m 5ms/step - accuracy: 0.5295 - loss: 0.7191 - precision: 0.7911 - recall: 0.5556"
                ]
              },
              {
                "output_type": "stream",
                "name": "stdout",
                "text": [
                  "\b\b\b\b\b\b\b\b\b\b\b\b\b\b\b\b\b\b\b\b\b\b\b\b\b\b\b\b\b\b\b\b\b\b\b\b\b\b\b\b\b\b\b\b\b\b\b\b\b\b\b\b\b\b\b\b\b\b\b\b\b\b\b\b\b\b\b\b\b\b\b\b\b\b\b\b\b\b\b\b\b\b\b\b\b\b\b\b\b\b\b\b\b\b\b\b\b\b\b\b\b\b\b\b\b\b\b\b\b\b\b\r\u001b[1m103/119\u001b[0m \u001b[32m━━━━━━━━━━━━━━━━━\u001b[0m\u001b[37m━━━\u001b[0m \u001b[1m0s\u001b[0m 5ms/step - accuracy: 0.5267 - loss: 0.7188 - precision: 0.7908 - recall: 0.5507"
                ]
              },
              {
                "output_type": "stream",
                "name": "stdout",
                "text": [
                  "\b\b\b\b\b\b\b\b\b\b\b\b\b\b\b\b\b\b\b\b\b\b\b\b\b\b\b\b\b\b\b\b\b\b\b\b\b\b\b\b\b\b\b\b\b\b\b\b\b\b\b\b\b\b\b\b\b\b\b\b\b\b\b\b\b\b\b\b\b\b\b\b\b\b\b\b\b\b\b\b\b\b\b\b\b\b\b\b\b\b\b\b\b\b\b\b\b\b\b\b\b\b\b\b\b\b\b\b\b\b\b\r\u001b[1m113/119\u001b[0m \u001b[32m━━━━━━━━━━━━━━━━━━\u001b[0m\u001b[37m━━\u001b[0m \u001b[1m0s\u001b[0m 5ms/step - accuracy: 0.5241 - loss: 0.7185 - precision: 0.7906 - recall: 0.5461"
                ]
              },
              {
                "output_type": "stream",
                "name": "stdout",
                "text": [
                  "\b\b\b\b\b\b\b\b\b\b\b\b\b\b\b\b\b\b\b\b\b\b\b\b\b\b\b\b\b\b\b\b\b\b\b\b\b\b\b\b\b\b\b\b\b\b\b\b\b\b\b\b\b\b\b\b\b\b\b\b\b\b\b\b\b\b\b\b\b\b\b\b\b\b\b\b\b\b\b\b\b\b\b\b\b\b\b\b\b\b\b\b\b\b\b\b\b\b\b\b\b\b\b\b\b\b\b\b\b\b\b\r\u001b[1m119/119\u001b[0m \u001b[32m━━━━━━━━━━━━━━━━━━━━\u001b[0m\u001b[37m\u001b[0m \u001b[1m1s\u001b[0m 7ms/step - accuracy: 0.5220 - loss: 0.7183 - precision: 0.7905 - recall: 0.5425 - val_accuracy: 0.7915 - val_loss: 0.6421 - val_precision: 0.7915 - val_recall: 1.0000\n"
                ]
              },
              {
                "output_type": "stream",
                "name": "stdout",
                "text": [
                  "Epoch 3/30\n"
                ]
              },
              {
                "output_type": "stream",
                "name": "stdout",
                "text": [
                  "\r\u001b[1m  1/119\u001b[0m \u001b[37m━━━━━━━━━━━━━━━━━━━━\u001b[0m \u001b[1m50s\u001b[0m 428ms/step - accuracy: 0.6836 - loss: 0.7300 - precision: 0.7731 - recall: 0.8392"
                ]
              },
              {
                "output_type": "stream",
                "name": "stdout",
                "text": [
                  "\b\b\b\b\b\b\b\b\b\b\b\b\b\b\b\b\b\b\b\b\b\b\b\b\b\b\b\b\b\b\b\b\b\b\b\b\b\b\b\b\b\b\b\b\b\b\b\b\b\b\b\b\b\b\b\b\b\b\b\b\b\b\b\b\b\b\b\b\b\b\b\b\b\b\b\b\b\b\b\b\b\b\b\b\b\b\b\b\b\b\b\b\b\b\b\b\b\b\b\b\b\b\b\b\b\b\b\b\b\b\b\b\b\b\r\u001b[1m 12/119\u001b[0m \u001b[32m━━\u001b[0m\u001b[37m━━━━━━━━━━━━━━━━━━\u001b[0m \u001b[1m0s\u001b[0m 5ms/step - accuracy: 0.6003 - loss: 0.7385 - precision: 0.7669 - recall: 0.6899   "
                ]
              },
              {
                "output_type": "stream",
                "name": "stdout",
                "text": [
                  "\b\b\b\b\b\b\b\b\b\b\b\b\b\b\b\b\b\b\b\b\b\b\b\b\b\b\b\b\b\b\b\b\b\b\b\b\b\b\b\b\b\b\b\b\b\b\b\b\b\b\b\b\b\b\b\b\b\b\b\b\b\b\b\b\b\b\b\b\b\b\b\b\b\b\b\b\b\b\b\b\b\b\b\b\b\b\b\b\b\b\b\b\b\b\b\b\b\b\b\b\b\b\b\b\b\b\b\b\b\b\b\r\u001b[1m 23/119\u001b[0m \u001b[32m━━━\u001b[0m\u001b[37m━━━━━━━━━━━━━━━━━\u001b[0m \u001b[1m0s\u001b[0m 5ms/step - accuracy: 0.5340 - loss: 0.7324 - precision: 0.7676 - recall: 0.5720"
                ]
              },
              {
                "output_type": "stream",
                "name": "stdout",
                "text": [
                  "\b\b\b\b\b\b\b\b\b\b\b\b\b\b\b\b\b\b\b\b\b\b\b\b\b\b\b\b\b\b\b\b\b\b\b\b\b\b\b\b\b\b\b\b\b\b\b\b\b\b\b\b\b\b\b\b\b\b\b\b\b\b\b\b\b\b\b\b\b\b\b\b\b\b\b\b\b\b\b\b\b\b\b\b\b\b\b\b\b\b\b\b\b\b\b\b\b\b\b\b\b\b\b\b\b\b\b\b\b\b\b\r\u001b[1m 34/119\u001b[0m \u001b[32m━━━━━\u001b[0m\u001b[37m━━━━━━━━━━━━━━━\u001b[0m \u001b[1m0s\u001b[0m 5ms/step - accuracy: 0.5233 - loss: 0.7272 - precision: 0.7718 - recall: 0.5508"
                ]
              },
              {
                "output_type": "stream",
                "name": "stdout",
                "text": [
                  "\b\b\b\b\b\b\b\b\b\b\b\b\b\b\b\b\b\b\b\b\b\b\b\b\b\b\b\b\b\b\b\b\b\b\b\b\b\b\b\b\b\b\b\b\b\b\b\b\b\b\b\b\b\b\b\b\b\b\b\b\b\b\b\b\b\b\b\b\b\b\b\b\b\b\b\b\b\b\b\b\b\b\b\b\b\b\b\b\b\b\b\b\b\b\b\b\b\b\b\b\b\b\b\b\b\b\b\b\b\b\b\r\u001b[1m 44/119\u001b[0m \u001b[32m━━━━━━━\u001b[0m\u001b[37m━━━━━━━━━━━━━\u001b[0m \u001b[1m0s\u001b[0m 5ms/step - accuracy: 0.5085 - loss: 0.7244 - precision: 0.7740 - recall: 0.5232"
                ]
              },
              {
                "output_type": "stream",
                "name": "stdout",
                "text": [
                  "\b\b\b\b\b\b\b\b\b\b\b\b\b\b\b\b\b\b\b\b\b\b\b\b\b\b\b\b\b\b\b\b\b\b\b\b\b\b\b\b\b\b\b\b\b\b\b\b\b\b\b\b\b\b\b\b\b\b\b\b\b\b\b\b\b\b\b\b\b\b\b\b\b\b\b\b\b\b\b\b\b\b\b\b\b\b\b\b\b\b\b\b\b\b\b\b\b\b\b\b\b\b\b\b\b\b\b\b\b\b\b\r\u001b[1m 55/119\u001b[0m \u001b[32m━━━━━━━━━\u001b[0m\u001b[37m━━━━━━━━━━━\u001b[0m \u001b[1m0s\u001b[0m 5ms/step - accuracy: 0.5018 - loss: 0.7217 - precision: 0.7763 - recall: 0.5102"
                ]
              },
              {
                "output_type": "stream",
                "name": "stdout",
                "text": [
                  "\b\b\b\b\b\b\b\b\b\b\b\b\b\b\b\b\b\b\b\b\b\b\b\b\b\b\b\b\b\b\b\b\b\b\b\b\b\b\b\b\b\b\b\b\b\b\b\b\b\b\b\b\b\b\b\b\b\b\b\b\b\b\b\b\b\b\b\b\b\b\b\b\b\b\b\b\b\b\b\b\b\b\b\b\b\b\b\b\b\b\b\b\b\b\b\b\b\b\b\b\b\b\b\b\b\b\b\b\b\b\b\r\u001b[1m 65/119\u001b[0m \u001b[32m━━━━━━━━━━\u001b[0m\u001b[37m━━━━━━━━━━\u001b[0m \u001b[1m0s\u001b[0m 5ms/step - accuracy: 0.5002 - loss: 0.7195 - precision: 0.7780 - recall: 0.5067"
                ]
              },
              {
                "output_type": "stream",
                "name": "stdout",
                "text": [
                  "\b\b\b\b\b\b\b\b\b\b\b\b\b\b\b\b\b\b\b\b\b\b\b\b\b\b\b\b\b\b\b\b\b\b\b\b\b\b\b\b\b\b\b\b\b\b\b\b\b\b\b\b\b\b\b\b\b\b\b\b\b\b\b\b\b\b\b\b\b\b\b\b\b\b\b\b\b\b\b\b\b\b\b\b\b\b\b\b\b\b\b\b\b\b\b\b\b\b\b\b\b\b\b\b\b\b\b\b\b\b\b\r\u001b[1m 75/119\u001b[0m \u001b[32m━━━━━━━━━━━━\u001b[0m\u001b[37m━━━━━━━━\u001b[0m \u001b[1m0s\u001b[0m 5ms/step - accuracy: 0.4987 - loss: 0.7178 - precision: 0.7792 - recall: 0.5037"
                ]
              },
              {
                "output_type": "stream",
                "name": "stdout",
                "text": [
                  "\b\b\b\b\b\b\b\b\b\b\b\b\b\b\b\b\b\b\b\b\b\b\b\b\b\b\b\b\b\b\b\b\b\b\b\b\b\b\b\b\b\b\b\b\b\b\b\b\b\b\b\b\b\b\b\b\b\b\b\b\b\b\b\b\b\b\b\b\b\b\b\b\b\b\b\b\b\b\b\b\b\b\b\b\b\b\b\b\b\b\b\b\b\b\b\b\b\b\b\b\b\b\b\b\b\b\b\b\b\b\b\r\u001b[1m 85/119\u001b[0m \u001b[32m━━━━━━━━━━━━━━\u001b[0m\u001b[37m━━━━━━\u001b[0m \u001b[1m0s\u001b[0m 5ms/step - accuracy: 0.4970 - loss: 0.7165 - precision: 0.7802 - recall: 0.5003"
                ]
              },
              {
                "output_type": "stream",
                "name": "stdout",
                "text": [
                  "\b\b\b\b\b\b\b\b\b\b\b\b\b\b\b\b\b\b\b\b\b\b\b\b\b\b\b\b\b\b\b\b\b\b\b\b\b\b\b\b\b\b\b\b\b\b\b\b\b\b\b\b\b\b\b\b\b\b\b\b\b\b\b\b\b\b\b\b\b\b\b\b\b\b\b\b\b\b\b\b\b\b\b\b\b\b\b\b\b\b\b\b\b\b\b\b\b\b\b\b\b\b\b\b\b\b\b\b\b\b\b\r\u001b[1m 96/119\u001b[0m \u001b[32m━━━━━━━━━━━━━━━━\u001b[0m\u001b[37m━━━━\u001b[0m \u001b[1m0s\u001b[0m 5ms/step - accuracy: 0.4963 - loss: 0.7151 - precision: 0.7811 - recall: 0.4986"
                ]
              },
              {
                "output_type": "stream",
                "name": "stdout",
                "text": [
                  "\b\b\b\b\b\b\b\b\b\b\b\b\b\b\b\b\b\b\b\b\b\b\b\b\b\b\b\b\b\b\b\b\b\b\b\b\b\b\b\b\b\b\b\b\b\b\b\b\b\b\b\b\b\b\b\b\b\b\b\b\b\b\b\b\b\b\b\b\b\b\b\b\b\b\b\b\b\b\b\b\b\b\b\b\b\b\b\b\b\b\b\b\b\b\b\b\b\b\b\b\b\b\b\b\b\b\b\b\b\b\b\r\u001b[1m107/119\u001b[0m \u001b[32m━━━━━━━━━━━━━━━━━\u001b[0m\u001b[37m━━━\u001b[0m \u001b[1m0s\u001b[0m 5ms/step - accuracy: 0.4962 - loss: 0.7139 - precision: 0.7821 - recall: 0.4981"
                ]
              },
              {
                "output_type": "stream",
                "name": "stdout",
                "text": [
                  "\b\b\b\b\b\b\b\b\b\b\b\b\b\b\b\b\b\b\b\b\b\b\b\b\b\b\b\b\b\b\b\b\b\b\b\b\b\b\b\b\b\b\b\b\b\b\b\b\b\b\b\b\b\b\b\b\b\b\b\b\b\b\b\b\b\b\b\b\b\b\b\b\b\b\b\b\b\b\b\b\b\b\b\b\b\b\b\b\b\b\b\b\b\b\b\b\b\b\b\b\b\b\b\b\b\b\b\b\b\b\b\r\u001b[1m117/119\u001b[0m \u001b[32m━━━━━━━━━━━━━━━━━━━\u001b[0m\u001b[37m━\u001b[0m \u001b[1m0s\u001b[0m 5ms/step - accuracy: 0.4968 - loss: 0.7128 - precision: 0.7829 - recall: 0.4988"
                ]
              },
              {
                "output_type": "stream",
                "name": "stdout",
                "text": [
                  "\b\b\b\b\b\b\b\b\b\b\b\b\b\b\b\b\b\b\b\b\b\b\b\b\b\b\b\b\b\b\b\b\b\b\b\b\b\b\b\b\b\b\b\b\b\b\b\b\b\b\b\b\b\b\b\b\b\b\b\b\b\b\b\b\b\b\b\b\b\b\b\b\b\b\b\b\b\b\b\b\b\b\b\b\b\b\b\b\b\b\b\b\b\b\b\b\b\b\b\b\b\b\b\b\b\b\b\b\b\b\b\r\u001b[1m119/119\u001b[0m \u001b[32m━━━━━━━━━━━━━━━━━━━━\u001b[0m\u001b[37m\u001b[0m \u001b[1m1s\u001b[0m 7ms/step - accuracy: 0.4970 - loss: 0.7125 - precision: 0.7831 - recall: 0.4990 - val_accuracy: 0.2085 - val_loss: 0.7070 - val_precision: 0.0000e+00 - val_recall: 0.0000e+00\n"
                ]
              },
              {
                "output_type": "stream",
                "name": "stdout",
                "text": [
                  "Epoch 4/30\n"
                ]
              },
              {
                "output_type": "stream",
                "name": "stdout",
                "text": [
                  "\r\u001b[1m  1/119\u001b[0m \u001b[37m━━━━━━━━━━━━━━━━━━━━\u001b[0m \u001b[1m54s\u001b[0m 466ms/step - accuracy: 0.3359 - loss: 0.6932 - precision: 0.7966 - recall: 0.2293"
                ]
              },
              {
                "output_type": "stream",
                "name": "stdout",
                "text": [
                  "\b\b\b\b\b\b\b\b\b\b\b\b\b\b\b\b\b\b\b\b\b\b\b\b\b\b\b\b\b\b\b\b\b\b\b\b\b\b\b\b\b\b\b\b\b\b\b\b\b\b\b\b\b\b\b\b\b\b\b\b\b\b\b\b\b\b\b\b\b\b\b\b\b\b\b\b\b\b\b\b\b\b\b\b\b\b\b\b\b\b\b\b\b\b\b\b\b\b\b\b\b\b\b\b\b\b\b\b\b\b\b\b\b\b\r\u001b[1m 12/119\u001b[0m \u001b[32m━━\u001b[0m\u001b[37m━━━━━━━━━━━━━━━━━━\u001b[0m \u001b[1m0s\u001b[0m 5ms/step - accuracy: 0.3810 - loss: 0.7089 - precision: 0.7929 - recall: 0.2791   "
                ]
              },
              {
                "output_type": "stream",
                "name": "stdout",
                "text": [
                  "\b\b\b\b\b\b\b\b\b\b\b\b\b\b\b\b\b\b\b\b\b\b\b\b\b\b\b\b\b\b\b\b\b\b\b\b\b\b\b\b\b\b\b\b\b\b\b\b\b\b\b\b\b\b\b\b\b\b\b\b\b\b\b\b\b\b\b\b\b\b\b\b\b\b\b\b\b\b\b\b\b\b\b\b\b\b\b\b\b\b\b\b\b\b\b\b\b\b\b\b\b\b\b\b\b\b\b\b\b\b\b\r\u001b[1m 23/119\u001b[0m \u001b[32m━━━\u001b[0m\u001b[37m━━━━━━━━━━━━━━━━━\u001b[0m \u001b[1m0s\u001b[0m 5ms/step - accuracy: 0.3933 - loss: 0.7052 - precision: 0.7889 - recall: 0.3080"
                ]
              },
              {
                "output_type": "stream",
                "name": "stdout",
                "text": [
                  "\b\b\b\b\b\b\b\b\b\b\b\b\b\b\b\b\b\b\b\b\b\b\b\b\b\b\b\b\b\b\b\b\b\b\b\b\b\b\b\b\b\b\b\b\b\b\b\b\b\b\b\b\b\b\b\b\b\b\b\b\b\b\b\b\b\b\b\b\b\b\b\b\b\b\b\b\b\b\b\b\b\b\b\b\b\b\b\b\b\b\b\b\b\b\b\b\b\b\b\b\b\b\b\b\b\b\b\b\b\b\b\r\u001b[1m 34/119\u001b[0m \u001b[32m━━━━━\u001b[0m\u001b[37m━━━━━━━━━━━━━━━\u001b[0m \u001b[1m0s\u001b[0m 5ms/step - accuracy: 0.4139 - loss: 0.7036 - precision: 0.7883 - recall: 0.3469"
                ]
              },
              {
                "output_type": "stream",
                "name": "stdout",
                "text": [
                  "\b\b\b\b\b\b\b\b\b\b\b\b\b\b\b\b\b\b\b\b\b\b\b\b\b\b\b\b\b\b\b\b\b\b\b\b\b\b\b\b\b\b\b\b\b\b\b\b\b\b\b\b\b\b\b\b\b\b\b\b\b\b\b\b\b\b\b\b\b\b\b\b\b\b\b\b\b\b\b\b\b\b\b\b\b\b\b\b\b\b\b\b\b\b\b\b\b\b\b\b\b\b\b\b\b\b\b\b\b\b\b\r\u001b[1m 45/119\u001b[0m \u001b[32m━━━━━━━\u001b[0m\u001b[37m━━━━━━━━━━━━━\u001b[0m \u001b[1m0s\u001b[0m 5ms/step - accuracy: 0.4208 - loss: 0.7027 - precision: 0.7887 - recall: 0.3598"
                ]
              },
              {
                "output_type": "stream",
                "name": "stdout",
                "text": [
                  "\b\b\b\b\b\b\b\b\b\b\b\b\b\b\b\b\b\b\b\b\b\b\b\b\b\b\b\b\b\b\b\b\b\b\b\b\b\b\b\b\b\b\b\b\b\b\b\b\b\b\b\b\b\b\b\b\b\b\b\b\b\b\b\b\b\b\b\b\b\b\b\b\b\b\b\b\b\b\b\b\b\b\b\b\b\b\b\b\b\b\b\b\b\b\b\b\b\b\b\b\b\b\b\b\b\b\b\b\b\b\b\r\u001b[1m 57/119\u001b[0m \u001b[32m━━━━━━━━━\u001b[0m\u001b[37m━━━━━━━━━━━\u001b[0m \u001b[1m0s\u001b[0m 5ms/step - accuracy: 0.4343 - loss: 0.7016 - precision: 0.7896 - recall: 0.3835"
                ]
              },
              {
                "output_type": "stream",
                "name": "stdout",
                "text": [
                  "\b\b\b\b\b\b\b\b\b\b\b\b\b\b\b\b\b\b\b\b\b\b\b\b\b\b\b\b\b\b\b\b\b\b\b\b\b\b\b\b\b\b\b\b\b\b\b\b\b\b\b\b\b\b\b\b\b\b\b\b\b\b\b\b\b\b\b\b\b\b\b\b\b\b\b\b\b\b\b\b\b\b\b\b\b\b\b\b\b\b\b\b\b\b\b\b\b\b\b\b\b\b\b\b\b\b\b\b\b\b\b\r\u001b[1m 66/119\u001b[0m \u001b[32m━━━━━━━━━━━\u001b[0m\u001b[37m━━━━━━━━━\u001b[0m \u001b[1m0s\u001b[0m 5ms/step - accuracy: 0.4399 - loss: 0.7011 - precision: 0.7899 - recall: 0.3936"
                ]
              },
              {
                "output_type": "stream",
                "name": "stdout",
                "text": [
                  "\b\b\b\b\b\b\b\b\b\b\b\b\b\b\b\b\b\b\b\b\b\b\b\b\b\b\b\b\b\b\b\b\b\b\b\b\b\b\b\b\b\b\b\b\b\b\b\b\b\b\b\b\b\b\b\b\b\b\b\b\b\b\b\b\b\b\b\b\b\b\b\b\b\b\b\b\b\b\b\b\b\b\b\b\b\b\b\b\b\b\b\b\b\b\b\b\b\b\b\b\b\b\b\b\b\b\b\b\b\b\b\r\u001b[1m 77/119\u001b[0m \u001b[32m━━━━━━━━━━━━\u001b[0m\u001b[37m━━━━━━━━\u001b[0m \u001b[1m0s\u001b[0m 5ms/step - accuracy: 0.4450 - loss: 0.7007 - precision: 0.7901 - recall: 0.4028"
                ]
              },
              {
                "output_type": "stream",
                "name": "stdout",
                "text": [
                  "\b\b\b\b\b\b\b\b\b\b\b\b\b\b\b\b\b\b\b\b\b\b\b\b\b\b\b\b\b\b\b\b\b\b\b\b\b\b\b\b\b\b\b\b\b\b\b\b\b\b\b\b\b\b\b\b\b\b\b\b\b\b\b\b\b\b\b\b\b\b\b\b\b\b\b\b\b\b\b\b\b\b\b\b\b\b\b\b\b\b\b\b\b\b\b\b\b\b\b\b\b\b\b\b\b\b\b\b\b\b\b\r\u001b[1m 87/119\u001b[0m \u001b[32m━━━━━━━━━━━━━━\u001b[0m\u001b[37m━━━━━━\u001b[0m \u001b[1m0s\u001b[0m 5ms/step - accuracy: 0.4503 - loss: 0.7004 - precision: 0.7904 - recall: 0.4120"
                ]
              },
              {
                "output_type": "stream",
                "name": "stdout",
                "text": [
                  "\b\b\b\b\b\b\b\b\b\b\b\b\b\b\b\b\b\b\b\b\b\b\b\b\b\b\b\b\b\b\b\b\b\b\b\b\b\b\b\b\b\b\b\b\b\b\b\b\b\b\b\b\b\b\b\b\b\b\b\b\b\b\b\b\b\b\b\b\b\b\b\b\b\b\b\b\b\b\b\b\b\b\b\b\b\b\b\b\b\b\b\b\b\b\b\b\b\b\b\b\b\b\b\b\b\b\b\b\b\b\b\r\u001b[1m 98/119\u001b[0m \u001b[32m━━━━━━━━━━━━━━━━\u001b[0m\u001b[37m━━━━\u001b[0m \u001b[1m0s\u001b[0m 5ms/step - accuracy: 0.4561 - loss: 0.7001 - precision: 0.7906 - recall: 0.4221"
                ]
              },
              {
                "output_type": "stream",
                "name": "stdout",
                "text": [
                  "\b\b\b\b\b\b\b\b\b\b\b\b\b\b\b\b\b\b\b\b\b\b\b\b\b\b\b\b\b\b\b\b\b\b\b\b\b\b\b\b\b\b\b\b\b\b\b\b\b\b\b\b\b\b\b\b\b\b\b\b\b\b\b\b\b\b\b\b\b\b\b\b\b\b\b\b\b\b\b\b\b\b\b\b\b\b\b\b\b\b\b\b\b\b\b\b\b\b\b\b\b\b\b\b\b\b\b\b\b\b\b\r\u001b[1m109/119\u001b[0m \u001b[32m━━━━━━━━━━━━━━━━━━\u001b[0m\u001b[37m━━\u001b[0m \u001b[1m0s\u001b[0m 5ms/step - accuracy: 0.4612 - loss: 0.6999 - precision: 0.7908 - recall: 0.4309"
                ]
              },
              {
                "output_type": "stream",
                "name": "stdout",
                "text": [
                  "\b\b\b\b\b\b\b\b\b\b\b\b\b\b\b\b\b\b\b\b\b\b\b\b\b\b\b\b\b\b\b\b\b\b\b\b\b\b\b\b\b\b\b\b\b\b\b\b\b\b\b\b\b\b\b\b\b\b\b\b\b\b\b\b\b\b\b\b\b\b\b\b\b\b\b\b\b\b\b\b\b\b\b\b\b\b\b\b\b\b\b\b\b\b\b\b\b\b\b\b\b\b\b\b\b\b\b\b\b\b\b\r\u001b[1m119/119\u001b[0m \u001b[32m━━━━━━━━━━━━━━━━━━━━\u001b[0m\u001b[37m\u001b[0m \u001b[1m0s\u001b[0m 5ms/step - accuracy: 0.4638 - loss: 0.6997 - precision: 0.7910 - recall: 0.4354"
                ]
              },
              {
                "output_type": "stream",
                "name": "stdout",
                "text": [
                  "\b\b\b\b\b\b\b\b\b\b\b\b\b\b\b\b\b\b\b\b\b\b\b\b\b\b\b\b\b\b\b\b\b\b\b\b\b\b\b\b\b\b\b\b\b\b\b\b\b\b\b\b\b\b\b\b\b\b\b\b\b\b\b\b\b\b\b\b\b\b\b\b\b\b\b\b\b\b\b\b\b\b\b\b\b\b\b\b\b\b\b\b\b\b\b\b\b\b\b\b\b\b\b\b\b\b\b\b\b\b\b\r\u001b[1m119/119\u001b[0m \u001b[32m━━━━━━━━━━━━━━━━━━━━\u001b[0m\u001b[37m\u001b[0m \u001b[1m1s\u001b[0m 7ms/step - accuracy: 0.4641 - loss: 0.6997 - precision: 0.7910 - recall: 0.4359 - val_accuracy: 0.7915 - val_loss: 0.6541 - val_precision: 0.7915 - val_recall: 1.0000\n"
                ]
              },
              {
                "output_type": "stream",
                "name": "stdout",
                "text": [
                  "Epoch 5/30\n"
                ]
              },
              {
                "output_type": "stream",
                "name": "stdout",
                "text": [
                  "\r\u001b[1m  1/119\u001b[0m \u001b[37m━━━━━━━━━━━━━━━━━━━━\u001b[0m \u001b[1m5s\u001b[0m 45ms/step - accuracy: 0.6914 - loss: 0.7603 - precision: 0.7435 - recall: 0.8953"
                ]
              },
              {
                "output_type": "stream",
                "name": "stdout",
                "text": [
                  "\b\b\b\b\b\b\b\b\b\b\b\b\b\b\b\b\b\b\b\b\b\b\b\b\b\b\b\b\b\b\b\b\b\b\b\b\b\b\b\b\b\b\b\b\b\b\b\b\b\b\b\b\b\b\b\b\b\b\b\b\b\b\b\b\b\b\b\b\b\b\b\b\b\b\b\b\b\b\b\b\b\b\b\b\b\b\b\b\b\b\b\b\b\b\b\b\b\b\b\b\b\b\b\b\b\b\b\b\b\b\b\b\r\u001b[1m 11/119\u001b[0m \u001b[32m━\u001b[0m\u001b[37m━━━━━━━━━━━━━━━━━━━\u001b[0m \u001b[1m0s\u001b[0m 5ms/step - accuracy: 0.6825 - loss: 0.7129 - precision: 0.7826 - recall: 0.8218 "
                ]
              },
              {
                "output_type": "stream",
                "name": "stdout",
                "text": [
                  "\b\b\b\b\b\b\b\b\b\b\b\b\b\b\b\b\b\b\b\b\b\b\b\b\b\b\b\b\b\b\b\b\b\b\b\b\b\b\b\b\b\b\b\b\b\b\b\b\b\b\b\b\b\b\b\b\b\b\b\b\b\b\b\b\b\b\b\b\b\b\b\b\b\b\b\b\b\b\b\b\b\b\b\b\b\b\b\b\b\b\b\b\b\b\b\b\b\b\b\b\b\b\b\b\b\b\b\b\b\b\b\r\u001b[1m 21/119\u001b[0m \u001b[32m━━━\u001b[0m\u001b[37m━━━━━━━━━━━━━━━━━\u001b[0m \u001b[1m0s\u001b[0m 5ms/step - accuracy: 0.6101 - loss: 0.7060 - precision: 0.7865 - recall: 0.6930"
                ]
              },
              {
                "output_type": "stream",
                "name": "stdout",
                "text": [
                  "\b\b\b\b\b\b\b\b\b\b\b\b\b\b\b\b\b\b\b\b\b\b\b\b\b\b\b\b\b\b\b\b\b\b\b\b\b\b\b\b\b\b\b\b\b\b\b\b\b\b\b\b\b\b\b\b\b\b\b\b\b\b\b\b\b\b\b\b\b\b\b\b\b\b\b\b\b\b\b\b\b\b\b\b\b\b\b\b\b\b\b\b\b\b\b\b\b\b\b\b\b\b\b\b\b\b\b\b\b\b\b\r\u001b[1m 32/119\u001b[0m \u001b[32m━━━━━\u001b[0m\u001b[37m━━━━━━━━━━━━━━━\u001b[0m \u001b[1m0s\u001b[0m 5ms/step - accuracy: 0.5837 - loss: 0.7039 - precision: 0.7865 - recall: 0.6473"
                ]
              },
              {
                "output_type": "stream",
                "name": "stdout",
                "text": [
                  "\b\b\b\b\b\b\b\b\b\b\b\b\b\b\b\b\b\b\b\b\b\b\b\b\b\b\b\b\b\b\b\b\b\b\b\b\b\b\b\b\b\b\b\b\b\b\b\b\b\b\b\b\b\b\b\b\b\b\b\b\b\b\b\b\b\b\b\b\b\b\b\b\b\b\b\b\b\b\b\b\b\b\b\b\b\b\b\b\b\b\b\b\b\b\b\b\b\b\b\b\b\b\b\b\b\b\b\b\b\b\b\r\u001b[1m 42/119\u001b[0m \u001b[32m━━━━━━━\u001b[0m\u001b[37m━━━━━━━━━━━━━\u001b[0m \u001b[1m0s\u001b[0m 5ms/step - accuracy: 0.5621 - loss: 0.7031 - precision: 0.7861 - recall: 0.6105"
                ]
              },
              {
                "output_type": "stream",
                "name": "stdout",
                "text": [
                  "\b\b\b\b\b\b\b\b\b\b\b\b\b\b\b\b\b\b\b\b\b\b\b\b\b\b\b\b\b\b\b\b\b\b\b\b\b\b\b\b\b\b\b\b\b\b\b\b\b\b\b\b\b\b\b\b\b\b\b\b\b\b\b\b\b\b\b\b\b\b\b\b\b\b\b\b\b\b\b\b\b\b\b\b\b\b\b\b\b\b\b\b\b\b\b\b\b\b\b\b\b\b\b\b\b\b\b\b\b\b\b\r\u001b[1m 52/119\u001b[0m \u001b[32m━━━━━━━━\u001b[0m\u001b[37m━━━━━━━━━━━━\u001b[0m \u001b[1m0s\u001b[0m 5ms/step - accuracy: 0.5544 - loss: 0.7022 - precision: 0.7866 - recall: 0.5972"
                ]
              },
              {
                "output_type": "stream",
                "name": "stdout",
                "text": [
                  "\b\b\b\b\b\b\b\b\b\b\b\b\b\b\b\b\b\b\b\b\b\b\b\b\b\b\b\b\b\b\b\b\b\b\b\b\b\b\b\b\b\b\b\b\b\b\b\b\b\b\b\b\b\b\b\b\b\b\b\b\b\b\b\b\b\b\b\b\b\b\b\b\b\b\b\b\b\b\b\b\b\b\b\b\b\b\b\b\b\b\b\b\b\b\b\b\b\b\b\b\b\b\b\b\b\b\b\b\b\b\b\r\u001b[1m 62/119\u001b[0m \u001b[32m━━━━━━━━━━\u001b[0m\u001b[37m━━━━━━━━━━\u001b[0m \u001b[1m0s\u001b[0m 5ms/step - accuracy: 0.5453 - loss: 0.7015 - precision: 0.7868 - recall: 0.5816"
                ]
              },
              {
                "output_type": "stream",
                "name": "stdout",
                "text": [
                  "\b\b\b\b\b\b\b\b\b\b\b\b\b\b\b\b\b\b\b\b\b\b\b\b\b\b\b\b\b\b\b\b\b\b\b\b\b\b\b\b\b\b\b\b\b\b\b\b\b\b\b\b\b\b\b\b\b\b\b\b\b\b\b\b\b\b\b\b\b\b\b\b\b\b\b\b\b\b\b\b\b\b\b\b\b\b\b\b\b\b\b\b\b\b\b\b\b\b\b\b\b\b\b\b\b\b\b\b\b\b\b\r\u001b[1m 73/119\u001b[0m \u001b[32m━━━━━━━━━━━━\u001b[0m\u001b[37m━━━━━━━━\u001b[0m \u001b[1m0s\u001b[0m 5ms/step - accuracy: 0.5411 - loss: 0.7008 - precision: 0.7872 - recall: 0.5743"
                ]
              },
              {
                "output_type": "stream",
                "name": "stdout",
                "text": [
                  "\b\b\b\b\b\b\b\b\b\b\b\b\b\b\b\b\b\b\b\b\b\b\b\b\b\b\b\b\b\b\b\b\b\b\b\b\b\b\b\b\b\b\b\b\b\b\b\b\b\b\b\b\b\b\b\b\b\b\b\b\b\b\b\b\b\b\b\b\b\b\b\b\b\b\b\b\b\b\b\b\b\b\b\b\b\b\b\b\b\b\b\b\b\b\b\b\b\b\b\b\b\b\b\b\b\b\b\b\b\b\b\r\u001b[1m 84/119\u001b[0m \u001b[32m━━━━━━━━━━━━━━\u001b[0m\u001b[37m━━━━━━\u001b[0m \u001b[1m0s\u001b[0m 5ms/step - accuracy: 0.5389 - loss: 0.7003 - precision: 0.7875 - recall: 0.5704"
                ]
              },
              {
                "output_type": "stream",
                "name": "stdout",
                "text": [
                  "\b\b\b\b\b\b\b\b\b\b\b\b\b\b\b\b\b\b\b\b\b\b\b\b\b\b\b\b\b\b\b\b\b\b\b\b\b\b\b\b\b\b\b\b\b\b\b\b\b\b\b\b\b\b\b\b\b\b\b\b\b\b\b\b\b\b\b\b\b\b\b\b\b\b\b\b\b\b\b\b\b\b\b\b\b\b\b\b\b\b\b\b\b\b\b\b\b\b\b\b\b\b\b\b\b\b\b\b\b\b\b\r\u001b[1m 95/119\u001b[0m \u001b[32m━━━━━━━━━━━━━━━\u001b[0m\u001b[37m━━━━━\u001b[0m \u001b[1m0s\u001b[0m 5ms/step - accuracy: 0.5360 - loss: 0.7000 - precision: 0.7876 - recall: 0.5655"
                ]
              },
              {
                "output_type": "stream",
                "name": "stdout",
                "text": [
                  "\b\b\b\b\b\b\b\b\b\b\b\b\b\b\b\b\b\b\b\b\b\b\b\b\b\b\b\b\b\b\b\b\b\b\b\b\b\b\b\b\b\b\b\b\b\b\b\b\b\b\b\b\b\b\b\b\b\b\b\b\b\b\b\b\b\b\b\b\b\b\b\b\b\b\b\b\b\b\b\b\b\b\b\b\b\b\b\b\b\b\b\b\b\b\b\b\b\b\b\b\b\b\b\b\b\b\b\b\b\b\b\r\u001b[1m105/119\u001b[0m \u001b[32m━━━━━━━━━━━━━━━━━\u001b[0m\u001b[37m━━━\u001b[0m \u001b[1m0s\u001b[0m 5ms/step - accuracy: 0.5324 - loss: 0.6998 - precision: 0.7877 - recall: 0.5591"
                ]
              },
              {
                "output_type": "stream",
                "name": "stdout",
                "text": [
                  "\b\b\b\b\b\b\b\b\b\b\b\b\b\b\b\b\b\b\b\b\b\b\b\b\b\b\b\b\b\b\b\b\b\b\b\b\b\b\b\b\b\b\b\b\b\b\b\b\b\b\b\b\b\b\b\b\b\b\b\b\b\b\b\b\b\b\b\b\b\b\b\b\b\b\b\b\b\b\b\b\b\b\b\b\b\b\b\b\b\b\b\b\b\b\b\b\b\b\b\b\b\b\b\b\b\b\b\b\b\b\b\r\u001b[1m115/119\u001b[0m \u001b[32m━━━━━━━━━━━━━━━━━━━\u001b[0m\u001b[37m━\u001b[0m \u001b[1m0s\u001b[0m 5ms/step - accuracy: 0.5291 - loss: 0.6996 - precision: 0.7878 - recall: 0.5534"
                ]
              },
              {
                "output_type": "stream",
                "name": "stdout",
                "text": [
                  "\b\b\b\b\b\b\b\b\b\b\b\b\b\b\b\b\b\b\b\b\b\b\b\b\b\b\b\b\b\b\b\b\b\b\b\b\b\b\b\b\b\b\b\b\b\b\b\b\b\b\b\b\b\b\b\b\b\b\b\b\b\b\b\b\b\b\b\b\b\b\b\b\b\b\b\b\b\b\b\b\b\b\b\b\b\b\b\b\b\b\b\b\b\b\b\b\b\b\b\b\b\b\b\b\b\b\b\b\b\b\b\r\u001b[1m119/119\u001b[0m \u001b[32m━━━━━━━━━━━━━━━━━━━━\u001b[0m\u001b[37m\u001b[0m \u001b[1m1s\u001b[0m 7ms/step - accuracy: 0.5280 - loss: 0.6995 - precision: 0.7878 - recall: 0.5515 - val_accuracy: 0.2085 - val_loss: 0.7017 - val_precision: 0.0000e+00 - val_recall: 0.0000e+00\n"
                ]
              },
              {
                "output_type": "stream",
                "name": "stdout",
                "text": [
                  "Epoch 6/30\n"
                ]
              },
              {
                "output_type": "stream",
                "name": "stdout",
                "text": [
                  "\r\u001b[1m  1/119\u001b[0m \u001b[37m━━━━━━━━━━━━━━━━━━━━\u001b[0m \u001b[1m5s\u001b[0m 48ms/step - accuracy: 0.2891 - loss: 0.6874 - precision: 0.8000 - recall: 0.1379"
                ]
              },
              {
                "output_type": "stream",
                "name": "stdout",
                "text": [
                  "\b\b\b\b\b\b\b\b\b\b\b\b\b\b\b\b\b\b\b\b\b\b\b\b\b\b\b\b\b\b\b\b\b\b\b\b\b\b\b\b\b\b\b\b\b\b\b\b\b\b\b\b\b\b\b\b\b\b\b\b\b\b\b\b\b\b\b\b\b\b\b\b\b\b\b\b\b\b\b\b\b\b\b\b\b\b\b\b\b\b\b\b\b\b\b\b\b\b\b\b\b\b\b\b\b\b\b\b\b\b\b\b\r\u001b[1m  8/119\u001b[0m \u001b[32m━\u001b[0m\u001b[37m━━━━━━━━━━━━━━━━━━━\u001b[0m \u001b[1m0s\u001b[0m 8ms/step - accuracy: 0.3486 - loss: 0.6901 - precision: 0.7951 - recall: 0.2404 "
                ]
              },
              {
                "output_type": "stream",
                "name": "stdout",
                "text": [
                  "\b\b\b\b\b\b\b\b\b\b\b\b\b\b\b\b\b\b\b\b\b\b\b\b\b\b\b\b\b\b\b\b\b\b\b\b\b\b\b\b\b\b\b\b\b\b\b\b\b\b\b\b\b\b\b\b\b\b\b\b\b\b\b\b\b\b\b\b\b\b\b\b\b\b\b\b\b\b\b\b\b\b\b\b\b\b\b\b\b\b\b\b\b\b\b\b\b\b\b\b\b\b\b\b\b\b\b\b\b\b\b\r\u001b[1m 20/119\u001b[0m \u001b[32m━━━\u001b[0m\u001b[37m━━━━━━━━━━━━━━━━━\u001b[0m \u001b[1m0s\u001b[0m 6ms/step - accuracy: 0.3868 - loss: 0.6925 - precision: 0.7898 - recall: 0.3079"
                ]
              },
              {
                "output_type": "stream",
                "name": "stdout",
                "text": [
                  "\b\b\b\b\b\b\b\b\b\b\b\b\b\b\b\b\b\b\b\b\b\b\b\b\b\b\b\b\b\b\b\b\b\b\b\b\b\b\b\b\b\b\b\b\b\b\b\b\b\b\b\b\b\b\b\b\b\b\b\b\b\b\b\b\b\b\b\b\b\b\b\b\b\b\b\b\b\b\b\b\b\b\b\b\b\b\b\b\b\b\b\b\b\b\b\b\b\b\b\b\b\b\b\b\b\b\b\b\b\b\b\r\u001b[1m 31/119\u001b[0m \u001b[32m━━━━━\u001b[0m\u001b[37m━━━━━━━━━━━━━━━\u001b[0m \u001b[1m0s\u001b[0m 5ms/step - accuracy: 0.4089 - loss: 0.6931 - precision: 0.7889 - recall: 0.3466"
                ]
              },
              {
                "output_type": "stream",
                "name": "stdout",
                "text": [
                  "\b\b\b\b\b\b\b\b\b\b\b\b\b\b\b\b\b\b\b\b\b\b\b\b\b\b\b\b\b\b\b\b\b\b\b\b\b\b\b\b\b\b\b\b\b\b\b\b\b\b\b\b\b\b\b\b\b\b\b\b\b\b\b\b\b\b\b\b\b\b\b\b\b\b\b\b\b\b\b\b\b\b\b\b\b\b\b\b\b\b\b\b\b\b\b\b\b\b\b\b\b\b\b\b\b\b\b\b\b\b\b\r\u001b[1m 42/119\u001b[0m \u001b[32m━━━━━━━\u001b[0m\u001b[37m━━━━━━━━━━━━━\u001b[0m \u001b[1m0s\u001b[0m 5ms/step - accuracy: 0.4311 - loss: 0.6927 - precision: 0.7896 - recall: 0.3847"
                ]
              },
              {
                "output_type": "stream",
                "name": "stdout",
                "text": [
                  "\b\b\b\b\b\b\b\b\b\b\b\b\b\b\b\b\b\b\b\b\b\b\b\b\b\b\b\b\b\b\b\b\b\b\b\b\b\b\b\b\b\b\b\b\b\b\b\b\b\b\b\b\b\b\b\b\b\b\b\b\b\b\b\b\b\b\b\b\b\b\b\b\b\b\b\b\b\b\b\b\b\b\b\b\b\b\b\b\b\b\b\b\b\b\b\b\b\b\b\b\b\b\b\b\b\b\b\b\b\b\b\r\u001b[1m 51/119\u001b[0m \u001b[32m━━━━━━━━\u001b[0m\u001b[37m━━━━━━━━━━━━\u001b[0m \u001b[1m0s\u001b[0m 5ms/step - accuracy: 0.4467 - loss: 0.6926 - precision: 0.7901 - recall: 0.4111"
                ]
              },
              {
                "output_type": "stream",
                "name": "stdout",
                "text": [
                  "\b\b\b\b\b\b\b\b\b\b\b\b\b\b\b\b\b\b\b\b\b\b\b\b\b\b\b\b\b\b\b\b\b\b\b\b\b\b\b\b\b\b\b\b\b\b\b\b\b\b\b\b\b\b\b\b\b\b\b\b\b\b\b\b\b\b\b\b\b\b\b\b\b\b\b\b\b\b\b\b\b\b\b\b\b\b\b\b\b\b\b\b\b\b\b\b\b\b\b\b\b\b\b\b\b\b\b\b\b\b\b\r\u001b[1m 61/119\u001b[0m \u001b[32m━━━━━━━━━━\u001b[0m\u001b[37m━━━━━━━━━━\u001b[0m \u001b[1m0s\u001b[0m 5ms/step - accuracy: 0.4551 - loss: 0.6929 - precision: 0.7903 - recall: 0.4251"
                ]
              },
              {
                "output_type": "stream",
                "name": "stdout",
                "text": [
                  "\b\b\b\b\b\b\b\b\b\b\b\b\b\b\b\b\b\b\b\b\b\b\b\b\b\b\b\b\b\b\b\b\b\b\b\b\b\b\b\b\b\b\b\b\b\b\b\b\b\b\b\b\b\b\b\b\b\b\b\b\b\b\b\b\b\b\b\b\b\b\b\b\b\b\b\b\b\b\b\b\b\b\b\b\b\b\b\b\b\b\b\b\b\b\b\b\b\b\b\b\b\b\b\b\b\b\b\b\b\b\b\r\u001b[1m 72/119\u001b[0m \u001b[32m━━━━━━━━━━━━\u001b[0m\u001b[37m━━━━━━━━\u001b[0m \u001b[1m0s\u001b[0m 5ms/step - accuracy: 0.4586 - loss: 0.6933 - precision: 0.7906 - recall: 0.4307"
                ]
              },
              {
                "output_type": "stream",
                "name": "stdout",
                "text": [
                  "\b\b\b\b\b\b\b\b\b\b\b\b\b\b\b\b\b\b\b\b\b\b\b\b\b\b\b\b\b\b\b\b\b\b\b\b\b\b\b\b\b\b\b\b\b\b\b\b\b\b\b\b\b\b\b\b\b\b\b\b\b\b\b\b\b\b\b\b\b\b\b\b\b\b\b\b\b\b\b\b\b\b\b\b\b\b\b\b\b\b\b\b\b\b\b\b\b\b\b\b\b\b\b\b\b\b\b\b\b\b\b\r\u001b[1m 82/119\u001b[0m \u001b[32m━━━━━━━━━━━━━\u001b[0m\u001b[37m━━━━━━━\u001b[0m \u001b[1m0s\u001b[0m 5ms/step - accuracy: 0.4628 - loss: 0.6934 - precision: 0.7909 - recall: 0.4377"
                ]
              },
              {
                "output_type": "stream",
                "name": "stdout",
                "text": [
                  "\b\b\b\b\b\b\b\b\b\b\b\b\b\b\b\b\b\b\b\b\b\b\b\b\b\b\b\b\b\b\b\b\b\b\b\b\b\b\b\b\b\b\b\b\b\b\b\b\b\b\b\b\b\b\b\b\b\b\b\b\b\b\b\b\b\b\b\b\b\b\b\b\b\b\b\b\b\b\b\b\b\b\b\b\b\b\b\b\b\b\b\b\b\b\b\b\b\b\b\b\b\b\b\b\b\b\b\b\b\b\b\r\u001b[1m 92/119\u001b[0m \u001b[32m━━━━━━━━━━━━━━━\u001b[0m\u001b[37m━━━━━\u001b[0m \u001b[1m0s\u001b[0m 5ms/step - accuracy: 0.4663 - loss: 0.6935 - precision: 0.7909 - recall: 0.4435"
                ]
              },
              {
                "output_type": "stream",
                "name": "stdout",
                "text": [
                  "\b\b\b\b\b\b\b\b\b\b\b\b\b\b\b\b\b\b\b\b\b\b\b\b\b\b\b\b\b\b\b\b\b\b\b\b\b\b\b\b\b\b\b\b\b\b\b\b\b\b\b\b\b\b\b\b\b\b\b\b\b\b\b\b\b\b\b\b\b\b\b\b\b\b\b\b\b\b\b\b\b\b\b\b\b\b\b\b\b\b\b\b\b\b\b\b\b\b\b\b\b\b\b\b\b\b\b\b\b\b\b\r\u001b[1m103/119\u001b[0m \u001b[32m━━━━━━━━━━━━━━━━━\u001b[0m\u001b[37m━━━\u001b[0m \u001b[1m0s\u001b[0m 5ms/step - accuracy: 0.4674 - loss: 0.6937 - precision: 0.7909 - recall: 0.4453"
                ]
              },
              {
                "output_type": "stream",
                "name": "stdout",
                "text": [
                  "\b\b\b\b\b\b\b\b\b\b\b\b\b\b\b\b\b\b\b\b\b\b\b\b\b\b\b\b\b\b\b\b\b\b\b\b\b\b\b\b\b\b\b\b\b\b\b\b\b\b\b\b\b\b\b\b\b\b\b\b\b\b\b\b\b\b\b\b\b\b\b\b\b\b\b\b\b\b\b\b\b\b\b\b\b\b\b\b\b\b\b\b\b\b\b\b\b\b\b\b\b\b\b\b\b\b\b\b\b\b\b\r\u001b[1m113/119\u001b[0m \u001b[32m━━━━━━━━━━━━━━━━━━\u001b[0m\u001b[37m━━\u001b[0m \u001b[1m0s\u001b[0m 5ms/step - accuracy: 0.4689 - loss: 0.6939 - precision: 0.7908 - recall: 0.4478"
                ]
              },
              {
                "output_type": "stream",
                "name": "stdout",
                "text": [
                  "\b\b\b\b\b\b\b\b\b\b\b\b\b\b\b\b\b\b\b\b\b\b\b\b\b\b\b\b\b\b\b\b\b\b\b\b\b\b\b\b\b\b\b\b\b\b\b\b\b\b\b\b\b\b\b\b\b\b\b\b\b\b\b\b\b\b\b\b\b\b\b\b\b\b\b\b\b\b\b\b\b\b\b\b\b\b\b\b\b\b\b\b\b\b\b\b\b\b\b\b\b\b\b\b\b\b\b\b\b\b\b\r\u001b[1m119/119\u001b[0m \u001b[32m━━━━━━━━━━━━━━━━━━━━\u001b[0m\u001b[37m\u001b[0m \u001b[1m1s\u001b[0m 7ms/step - accuracy: 0.4702 - loss: 0.6939 - precision: 0.7908 - recall: 0.4500 - val_accuracy: 0.7915 - val_loss: 0.6782 - val_precision: 0.7915 - val_recall: 1.0000\n"
                ]
              },
              {
                "output_type": "stream",
                "name": "stdout",
                "text": [
                  "🎯 Model Performance:\n",
                  "   Accuracy: 0.792\n",
                  "   Precision: 0.792\n",
                  "   Recall: 1.000\n"
                ]
              },
              {
                "output_type": "stream",
                "name": "stdout",
                "text": [
                  "   Predicted occupancy rate: 100.0%\n"
                ]
              },
              {
                "output_type": "stream",
                "name": "stdout",
                "text": [
                  "📊 Inner Sunset - Actual: 363 occupied, 182 available (66.6% occupied)\n"
                ]
              },
              {
                "output_type": "stream",
                "name": "stdout",
                "text": [
                  "🎯 Using dynamic threshold: 0.548\n",
                  "📈 Probability range: 0.548 to 0.548\n",
                  "🤖 ML Prediction: 316 occupied, 229 available (58.0% occupied)\n",
                  "✅ Top 15 recommended spots from 229 available:\n",
                  "  1. 1297 08TH AVE (632m away, confidence: 0.00)\n",
                  "  2. 1297 07TH AVE (639m away, confidence: 0.00)\n",
                  "  3. 718 IRVING ST (640m away, confidence: 0.00)\n",
                  "  4. 626 IRVING ST (642m away, confidence: 0.00)\n",
                  "  5. 1298 07TH AVE (643m away, confidence: 0.00)\n",
                  "  6. 624 IRVING ST (643m away, confidence: 0.00)\n",
                  "  7. 620 IRVING ST (643m away, confidence: 0.00)\n",
                  "  8. 618 IRVING ST (644m away, confidence: 0.00)\n",
                  "  9. 616 IRVING ST (645m away, confidence: 0.00)\n",
                  "  10. 1299 07TH AVE (647m away, confidence: 0.00)\n",
                  "  11. 610 IRVING ST (647m away, confidence: 0.00)\n",
                  "  12. 606 IRVING ST (648m away, confidence: 0.00)\n",
                  "  13. 604 IRVING ST (650m away, confidence: 0.00)\n",
                  "  14. 711 IRVING ST (657m away, confidence: 0.00)\n",
                  "  15. 707 IRVING ST (657m away, confidence: 0.00)\n"
                ]
              },
              {
                "output_type": "stream",
                "name": "stdout",
                "text": [
                  "✅ Map saved to 'ml_fixed_parking_map_Inner Sunset_2025-05-28_12.html' with 15 parking spots\n"
                ]
              },
              {
                "output_type": "display_data",
                "data": {
                  "text/plain": "<IPython.core.display.Javascript object>",
                  "application/javascript": "\n    async function download(id, filename, size) {\n      if (!google.colab.kernel.accessAllowed) {\n        return;\n      }\n      const div = document.createElement('div');\n      const label = document.createElement('label');\n      label.textContent = `Downloading \"${filename}\": `;\n      div.appendChild(label);\n      const progress = document.createElement('progress');\n      progress.max = size;\n      div.appendChild(progress);\n      document.body.appendChild(div);\n\n      const buffers = [];\n      let downloaded = 0;\n\n      const channel = await google.colab.kernel.comms.open(id);\n      // Send a message to notify the kernel that we're ready.\n      channel.send({})\n\n      for await (const message of channel.messages) {\n        // Send a message to notify the kernel that we're ready.\n        channel.send({})\n        if (message.buffers) {\n          for (const buffer of message.buffers) {\n            buffers.push(buffer);\n            downloaded += buffer.byteLength;\n            progress.value = downloaded;\n          }\n        }\n      }\n      const blob = new Blob(buffers, {type: 'application/binary'});\n      const a = document.createElement('a');\n      a.href = window.URL.createObjectURL(blob);\n      a.download = filename;\n      div.appendChild(a);\n      a.click();\n      div.remove();\n    }\n  "
                },
                "metadata": {}
              },
              {
                "output_type": "display_data",
                "data": {
                  "text/plain": "<IPython.core.display.Javascript object>",
                  "application/javascript": "download(\"download_6bd6a588-f847-4c4e-88c7-d8d7eb75afdf\", \"ml_fixed_parking_map_Inner Sunset_2025-05-28_12.html\", 23277)"
                },
                "metadata": {}
              },
              {
                "output_type": "display_data",
                "data": {
                  "text/plain": "/content/ml_fixed_parking_map_Inner Sunset_2025-05-28_12.html",
                  "text/html": "<a href='ml_fixed_parking_map_Inner Sunset_2025-05-28_12.html' target='_blank'>ml_fixed_parking_map_Inner Sunset_2025-05-28_12.html</a><br>"
                },
                "metadata": {}
              },
              {
                "output_type": "stream",
                "name": "stdout",
                "text": [
                  "🎉 Search completed successfully!\n"
                ]
              }
            ]
          }
        },
        "6113f10c80c640d480dfb2cc943b9d0a": {
          "model_module": "@jupyter-widgets/base",
          "model_name": "LayoutModel",
          "model_module_version": "1.2.0",
          "state": {
            "_model_module": "@jupyter-widgets/base",
            "_model_module_version": "1.2.0",
            "_model_name": "LayoutModel",
            "_view_count": null,
            "_view_module": "@jupyter-widgets/base",
            "_view_module_version": "1.2.0",
            "_view_name": "LayoutView",
            "align_content": null,
            "align_items": null,
            "align_self": null,
            "border": null,
            "bottom": null,
            "display": null,
            "flex": null,
            "flex_flow": null,
            "grid_area": null,
            "grid_auto_columns": null,
            "grid_auto_flow": null,
            "grid_auto_rows": null,
            "grid_column": null,
            "grid_gap": null,
            "grid_row": null,
            "grid_template_areas": null,
            "grid_template_columns": null,
            "grid_template_rows": null,
            "height": null,
            "justify_content": null,
            "justify_items": null,
            "left": null,
            "margin": null,
            "max_height": null,
            "max_width": null,
            "min_height": null,
            "min_width": null,
            "object_fit": null,
            "object_position": null,
            "order": null,
            "overflow": null,
            "overflow_x": null,
            "overflow_y": null,
            "padding": null,
            "right": null,
            "top": null,
            "visibility": null,
            "width": null
          }
        },
        "79f1e3fbfb024653a5daf56926a47e82": {
          "model_module": "@jupyter-widgets/base",
          "model_name": "LayoutModel",
          "model_module_version": "1.2.0",
          "state": {
            "_model_module": "@jupyter-widgets/base",
            "_model_module_version": "1.2.0",
            "_model_name": "LayoutModel",
            "_view_count": null,
            "_view_module": "@jupyter-widgets/base",
            "_view_module_version": "1.2.0",
            "_view_name": "LayoutView",
            "align_content": null,
            "align_items": null,
            "align_self": null,
            "border": null,
            "bottom": null,
            "display": null,
            "flex": null,
            "flex_flow": null,
            "grid_area": null,
            "grid_auto_columns": null,
            "grid_auto_flow": null,
            "grid_auto_rows": null,
            "grid_column": null,
            "grid_gap": null,
            "grid_row": null,
            "grid_template_areas": null,
            "grid_template_columns": null,
            "grid_template_rows": null,
            "height": null,
            "justify_content": null,
            "justify_items": null,
            "left": null,
            "margin": null,
            "max_height": null,
            "max_width": null,
            "min_height": null,
            "min_width": null,
            "object_fit": null,
            "object_position": null,
            "order": null,
            "overflow": null,
            "overflow_x": null,
            "overflow_y": null,
            "padding": null,
            "right": null,
            "top": null,
            "visibility": null,
            "width": null
          }
        },
        "34cd979190ba4eb585775ec24bd3cac8": {
          "model_module": "@jupyter-widgets/controls",
          "model_name": "DescriptionStyleModel",
          "model_module_version": "1.5.0",
          "state": {
            "_model_module": "@jupyter-widgets/controls",
            "_model_module_version": "1.5.0",
            "_model_name": "DescriptionStyleModel",
            "_view_count": null,
            "_view_module": "@jupyter-widgets/base",
            "_view_module_version": "1.2.0",
            "_view_name": "StyleView",
            "description_width": ""
          }
        },
        "dc49668efa8443ac8a98e5d7434beffa": {
          "model_module": "@jupyter-widgets/base",
          "model_name": "LayoutModel",
          "model_module_version": "1.2.0",
          "state": {
            "_model_module": "@jupyter-widgets/base",
            "_model_module_version": "1.2.0",
            "_model_name": "LayoutModel",
            "_view_count": null,
            "_view_module": "@jupyter-widgets/base",
            "_view_module_version": "1.2.0",
            "_view_name": "LayoutView",
            "align_content": null,
            "align_items": null,
            "align_self": null,
            "border": null,
            "bottom": null,
            "display": null,
            "flex": null,
            "flex_flow": null,
            "grid_area": null,
            "grid_auto_columns": null,
            "grid_auto_flow": null,
            "grid_auto_rows": null,
            "grid_column": null,
            "grid_gap": null,
            "grid_row": null,
            "grid_template_areas": null,
            "grid_template_columns": null,
            "grid_template_rows": null,
            "height": null,
            "justify_content": null,
            "justify_items": null,
            "left": null,
            "margin": null,
            "max_height": null,
            "max_width": null,
            "min_height": null,
            "min_width": null,
            "object_fit": null,
            "object_position": null,
            "order": null,
            "overflow": null,
            "overflow_x": null,
            "overflow_y": null,
            "padding": null,
            "right": null,
            "top": null,
            "visibility": null,
            "width": null
          }
        },
        "e47b36fe6f7b47afbad09422df1acea1": {
          "model_module": "@jupyter-widgets/controls",
          "model_name": "DescriptionStyleModel",
          "model_module_version": "1.5.0",
          "state": {
            "_model_module": "@jupyter-widgets/controls",
            "_model_module_version": "1.5.0",
            "_model_name": "DescriptionStyleModel",
            "_view_count": null,
            "_view_module": "@jupyter-widgets/base",
            "_view_module_version": "1.2.0",
            "_view_name": "StyleView",
            "description_width": ""
          }
        },
        "1817539027654a309ccd2f6d6c1ee2c5": {
          "model_module": "@jupyter-widgets/base",
          "model_name": "LayoutModel",
          "model_module_version": "1.2.0",
          "state": {
            "_model_module": "@jupyter-widgets/base",
            "_model_module_version": "1.2.0",
            "_model_name": "LayoutModel",
            "_view_count": null,
            "_view_module": "@jupyter-widgets/base",
            "_view_module_version": "1.2.0",
            "_view_name": "LayoutView",
            "align_content": null,
            "align_items": null,
            "align_self": null,
            "border": null,
            "bottom": null,
            "display": null,
            "flex": null,
            "flex_flow": null,
            "grid_area": null,
            "grid_auto_columns": null,
            "grid_auto_flow": null,
            "grid_auto_rows": null,
            "grid_column": null,
            "grid_gap": null,
            "grid_row": null,
            "grid_template_areas": null,
            "grid_template_columns": null,
            "grid_template_rows": null,
            "height": null,
            "justify_content": null,
            "justify_items": null,
            "left": null,
            "margin": null,
            "max_height": null,
            "max_width": null,
            "min_height": null,
            "min_width": null,
            "object_fit": null,
            "object_position": null,
            "order": null,
            "overflow": null,
            "overflow_x": null,
            "overflow_y": null,
            "padding": null,
            "right": null,
            "top": null,
            "visibility": null,
            "width": null
          }
        },
        "5bb3c8350ed44d11a6b4cedec98aa844": {
          "model_module": "@jupyter-widgets/controls",
          "model_name": "DescriptionStyleModel",
          "model_module_version": "1.5.0",
          "state": {
            "_model_module": "@jupyter-widgets/controls",
            "_model_module_version": "1.5.0",
            "_model_name": "DescriptionStyleModel",
            "_view_count": null,
            "_view_module": "@jupyter-widgets/base",
            "_view_module_version": "1.2.0",
            "_view_name": "StyleView",
            "description_width": ""
          }
        },
        "346035dd46af4163805592196d1f0ae0": {
          "model_module": "@jupyter-widgets/base",
          "model_name": "LayoutModel",
          "model_module_version": "1.2.0",
          "state": {
            "_model_module": "@jupyter-widgets/base",
            "_model_module_version": "1.2.0",
            "_model_name": "LayoutModel",
            "_view_count": null,
            "_view_module": "@jupyter-widgets/base",
            "_view_module_version": "1.2.0",
            "_view_name": "LayoutView",
            "align_content": null,
            "align_items": null,
            "align_self": null,
            "border": null,
            "bottom": null,
            "display": null,
            "flex": null,
            "flex_flow": null,
            "grid_area": null,
            "grid_auto_columns": null,
            "grid_auto_flow": null,
            "grid_auto_rows": null,
            "grid_column": null,
            "grid_gap": null,
            "grid_row": null,
            "grid_template_areas": null,
            "grid_template_columns": null,
            "grid_template_rows": null,
            "height": null,
            "justify_content": null,
            "justify_items": null,
            "left": null,
            "margin": null,
            "max_height": null,
            "max_width": null,
            "min_height": null,
            "min_width": null,
            "object_fit": null,
            "object_position": null,
            "order": null,
            "overflow": null,
            "overflow_x": null,
            "overflow_y": null,
            "padding": null,
            "right": null,
            "top": null,
            "visibility": null,
            "width": null
          }
        },
        "1a5026c202c141e9930c5a5b4f137fed": {
          "model_module": "@jupyter-widgets/controls",
          "model_name": "SliderStyleModel",
          "model_module_version": "1.5.0",
          "state": {
            "_model_module": "@jupyter-widgets/controls",
            "_model_module_version": "1.5.0",
            "_model_name": "SliderStyleModel",
            "_view_count": null,
            "_view_module": "@jupyter-widgets/base",
            "_view_module_version": "1.2.0",
            "_view_name": "StyleView",
            "description_width": "",
            "handle_color": null
          }
        },
        "cf186f83199b4e3281730dea930d3d3d": {
          "model_module": "@jupyter-widgets/base",
          "model_name": "LayoutModel",
          "model_module_version": "1.2.0",
          "state": {
            "_model_module": "@jupyter-widgets/base",
            "_model_module_version": "1.2.0",
            "_model_name": "LayoutModel",
            "_view_count": null,
            "_view_module": "@jupyter-widgets/base",
            "_view_module_version": "1.2.0",
            "_view_name": "LayoutView",
            "align_content": null,
            "align_items": null,
            "align_self": null,
            "border": null,
            "bottom": null,
            "display": null,
            "flex": null,
            "flex_flow": null,
            "grid_area": null,
            "grid_auto_columns": null,
            "grid_auto_flow": null,
            "grid_auto_rows": null,
            "grid_column": null,
            "grid_gap": null,
            "grid_row": null,
            "grid_template_areas": null,
            "grid_template_columns": null,
            "grid_template_rows": null,
            "height": null,
            "justify_content": null,
            "justify_items": null,
            "left": null,
            "margin": null,
            "max_height": null,
            "max_width": null,
            "min_height": null,
            "min_width": null,
            "object_fit": null,
            "object_position": null,
            "order": null,
            "overflow": null,
            "overflow_x": null,
            "overflow_y": null,
            "padding": null,
            "right": null,
            "top": null,
            "visibility": null,
            "width": null
          }
        },
        "48ca92291c884898a699c6209c0e2231": {
          "model_module": "@jupyter-widgets/controls",
          "model_name": "DescriptionStyleModel",
          "model_module_version": "1.5.0",
          "state": {
            "_model_module": "@jupyter-widgets/controls",
            "_model_module_version": "1.5.0",
            "_model_name": "DescriptionStyleModel",
            "_view_count": null,
            "_view_module": "@jupyter-widgets/base",
            "_view_module_version": "1.2.0",
            "_view_name": "StyleView",
            "description_width": ""
          }
        },
        "ef27fc99a41d497e8c3fafd42aefb110": {
          "model_module": "@jupyter-widgets/base",
          "model_name": "LayoutModel",
          "model_module_version": "1.2.0",
          "state": {
            "_model_module": "@jupyter-widgets/base",
            "_model_module_version": "1.2.0",
            "_model_name": "LayoutModel",
            "_view_count": null,
            "_view_module": "@jupyter-widgets/base",
            "_view_module_version": "1.2.0",
            "_view_name": "LayoutView",
            "align_content": null,
            "align_items": null,
            "align_self": null,
            "border": null,
            "bottom": null,
            "display": null,
            "flex": null,
            "flex_flow": null,
            "grid_area": null,
            "grid_auto_columns": null,
            "grid_auto_flow": null,
            "grid_auto_rows": null,
            "grid_column": null,
            "grid_gap": null,
            "grid_row": null,
            "grid_template_areas": null,
            "grid_template_columns": null,
            "grid_template_rows": null,
            "height": null,
            "justify_content": null,
            "justify_items": null,
            "left": null,
            "margin": null,
            "max_height": null,
            "max_width": null,
            "min_height": null,
            "min_width": null,
            "object_fit": null,
            "object_position": null,
            "order": null,
            "overflow": null,
            "overflow_x": null,
            "overflow_y": null,
            "padding": null,
            "right": null,
            "top": null,
            "visibility": null,
            "width": null
          }
        },
        "07508806e9d34ecbaf0a06cff1fb995b": {
          "model_module": "@jupyter-widgets/controls",
          "model_name": "DescriptionStyleModel",
          "model_module_version": "1.5.0",
          "state": {
            "_model_module": "@jupyter-widgets/controls",
            "_model_module_version": "1.5.0",
            "_model_name": "DescriptionStyleModel",
            "_view_count": null,
            "_view_module": "@jupyter-widgets/base",
            "_view_module_version": "1.2.0",
            "_view_name": "StyleView",
            "description_width": ""
          }
        },
        "7dbf5aa33ce7463c8767f8b8c241ee65": {
          "model_module": "@jupyter-widgets/base",
          "model_name": "LayoutModel",
          "model_module_version": "1.2.0",
          "state": {
            "_model_module": "@jupyter-widgets/base",
            "_model_module_version": "1.2.0",
            "_model_name": "LayoutModel",
            "_view_count": null,
            "_view_module": "@jupyter-widgets/base",
            "_view_module_version": "1.2.0",
            "_view_name": "LayoutView",
            "align_content": null,
            "align_items": null,
            "align_self": null,
            "border": null,
            "bottom": null,
            "display": null,
            "flex": null,
            "flex_flow": null,
            "grid_area": null,
            "grid_auto_columns": null,
            "grid_auto_flow": null,
            "grid_auto_rows": null,
            "grid_column": null,
            "grid_gap": null,
            "grid_row": null,
            "grid_template_areas": null,
            "grid_template_columns": null,
            "grid_template_rows": null,
            "height": null,
            "justify_content": null,
            "justify_items": null,
            "left": null,
            "margin": null,
            "max_height": null,
            "max_width": null,
            "min_height": null,
            "min_width": null,
            "object_fit": null,
            "object_position": null,
            "order": null,
            "overflow": null,
            "overflow_x": null,
            "overflow_y": null,
            "padding": null,
            "right": null,
            "top": null,
            "visibility": null,
            "width": null
          }
        },
        "4fe5e8787a7343f896e8e1e7f480fb94": {
          "model_module": "@jupyter-widgets/controls",
          "model_name": "ButtonStyleModel",
          "model_module_version": "1.5.0",
          "state": {
            "_model_module": "@jupyter-widgets/controls",
            "_model_module_version": "1.5.0",
            "_model_name": "ButtonStyleModel",
            "_view_count": null,
            "_view_module": "@jupyter-widgets/base",
            "_view_module_version": "1.2.0",
            "_view_name": "StyleView",
            "button_color": null,
            "font_weight": ""
          }
        },
        "bab2ba2e5385473884f2ade899d7116e": {
          "model_module": "@jupyter-widgets/base",
          "model_name": "LayoutModel",
          "model_module_version": "1.2.0",
          "state": {
            "_model_module": "@jupyter-widgets/base",
            "_model_module_version": "1.2.0",
            "_model_name": "LayoutModel",
            "_view_count": null,
            "_view_module": "@jupyter-widgets/base",
            "_view_module_version": "1.2.0",
            "_view_name": "LayoutView",
            "align_content": null,
            "align_items": null,
            "align_self": null,
            "border": null,
            "bottom": null,
            "display": null,
            "flex": null,
            "flex_flow": null,
            "grid_area": null,
            "grid_auto_columns": null,
            "grid_auto_flow": null,
            "grid_auto_rows": null,
            "grid_column": null,
            "grid_gap": null,
            "grid_row": null,
            "grid_template_areas": null,
            "grid_template_columns": null,
            "grid_template_rows": null,
            "height": null,
            "justify_content": null,
            "justify_items": null,
            "left": null,
            "margin": null,
            "max_height": null,
            "max_width": null,
            "min_height": null,
            "min_width": null,
            "object_fit": null,
            "object_position": null,
            "order": null,
            "overflow": null,
            "overflow_x": null,
            "overflow_y": null,
            "padding": null,
            "right": null,
            "top": null,
            "visibility": null,
            "width": null
          }
        }
      }
    }
  },
  "cells": [
    {
      "cell_type": "code",
      "execution_count": null,
      "metadata": {
        "colab": {
          "base_uri": "https://localhost:8080/",
          "height": 1000,
          "referenced_widgets": [
            "d43ede342d634c0a94759c9d4999ba10",
            "e7efc27f8c8e40f483078a41e9a71753",
            "1f2e6cad34224a00aee3d236c83d206b",
            "59af0fe33ec94214a3a5af804a77ca78",
            "d1842c311bf34be084b78be7a0d42eb7",
            "177a45a059d3404da531d3c7b7c03460",
            "f84e51d0e10e4efc84ff790f379d5e18",
            "0cc050abf9d84b94a8898bf3e068173a",
            "2883e9b7b7ac459a84bb7f33005fcec7",
            "6113f10c80c640d480dfb2cc943b9d0a",
            "79f1e3fbfb024653a5daf56926a47e82",
            "34cd979190ba4eb585775ec24bd3cac8",
            "dc49668efa8443ac8a98e5d7434beffa",
            "e47b36fe6f7b47afbad09422df1acea1",
            "1817539027654a309ccd2f6d6c1ee2c5",
            "5bb3c8350ed44d11a6b4cedec98aa844",
            "346035dd46af4163805592196d1f0ae0",
            "1a5026c202c141e9930c5a5b4f137fed",
            "cf186f83199b4e3281730dea930d3d3d",
            "48ca92291c884898a699c6209c0e2231",
            "ef27fc99a41d497e8c3fafd42aefb110",
            "07508806e9d34ecbaf0a06cff1fb995b",
            "7dbf5aa33ce7463c8767f8b8c241ee65",
            "4fe5e8787a7343f896e8e1e7f480fb94",
            "bab2ba2e5385473884f2ade899d7116e"
          ]
        },
        "id": "AwBfYkOM5UHn",
        "outputId": "c16a908c-ac0a-40f2-ec04-c06ab9c3486a"
      },
      "outputs": [
        {
          "output_type": "stream",
          "name": "stdout",
          "text": [
            "🅿️ Smart Parking Finder with Fixed ML Implementation\n",
            "============================================================\n",
            "Starting interactive app...\n",
            "📊 Loading dataset to get all neighborhoods...\n",
            "📥 Loaded batch: 37819 records (Total: 37819)\n",
            "✅ Loaded 37819 parking meters\n",
            "✅ Found 35 neighborhoods in dataset\n"
          ]
        },
        {
          "output_type": "display_data",
          "data": {
            "text/plain": [
              "VBox(children=(HTML(value='<h2>🅿️ Smart Parking Finder - ML Enhanced</h2>'), Dropdown(description='Neighborhoo…"
            ],
            "application/vnd.jupyter.widget-view+json": {
              "version_major": 2,
              "version_minor": 0,
              "model_id": "d43ede342d634c0a94759c9d4999ba10"
            }
          },
          "metadata": {}
        }
      ],
      "source": [
        "from pyspark.sql import SparkSession\n",
        "from pyspark.sql.functions import col, hour, dayofweek, lit, count, avg, rand, when\n",
        "import tensorflow as tf\n",
        "from tensorflow.keras.models import Sequential\n",
        "from tensorflow.keras.layers import Dense, Dropout\n",
        "from tensorflow.keras.callbacks import EarlyStopping\n",
        "import pandas as pd\n",
        "import numpy as np\n",
        "import requests\n",
        "from datetime import datetime, timedelta, date\n",
        "import folium\n",
        "from folium.plugins import HeatMap\n",
        "from IPython.display import display, IFrame, FileLink\n",
        "from google.colab import files\n",
        "import ipywidgets as widgets\n",
        "from sklearn.model_selection import train_test_split\n",
        "from sklearn.metrics import classification_report\n",
        "from geopy.distance import geodesic\n",
        "import gc\n",
        "\n",
        "# Initialize Spark session with increased memory for full dataset\n",
        "spark = SparkSession.builder \\\n",
        "    .appName(\"SmartParkingFinder\") \\\n",
        "    .config(\"spark.driver.memory\", \"4g\") \\\n",
        "    .config(\"spark.executor.memory\", \"4g\") \\\n",
        "    .config(\"spark.driver.maxResultSize\", \"2g\") \\\n",
        "    .config(\"spark.sql.adaptive.enabled\", \"true\") \\\n",
        "    .config(\"spark.sql.adaptive.coalescePartitions.enabled\", \"true\") \\\n",
        "    .config(\"spark.serializer\", \"org.apache.spark.serializer.KryoSerializer\") \\\n",
        "    .getOrCreate()\n",
        "\n",
        "# Set memory fraction for better resource management\n",
        "spark.conf.set(\"spark.sql.execution.arrow.pyspark.enabled\", \"true\")\n",
        "\n",
        "def load_parking_meter_data():\n",
        "    \"\"\"Load ALL parking meter data without any limits or sampling.\"\"\"\n",
        "    try:\n",
        "        # Get all records by setting a very high limit or using pagination\n",
        "        all_data = []\n",
        "        offset = 0\n",
        "        batch_size = 50000  # Process in batches to handle large dataset\n",
        "\n",
        "        while True:\n",
        "            url = f\"https://data.sfgov.org/resource/8vzz-qzz9.json?$limit={batch_size}&$offset={offset}\"\n",
        "            response = requests.get(url, timeout=30)\n",
        "            response.raise_for_status()\n",
        "            batch_data = response.json()\n",
        "\n",
        "            if not batch_data:  # No more data\n",
        "                break\n",
        "\n",
        "            all_data.extend(batch_data)\n",
        "            offset += batch_size\n",
        "            print(f\"📥 Loaded batch: {len(batch_data)} records (Total: {len(all_data)})\")\n",
        "\n",
        "            # Break if we get less than batch_size (indicates end of data)\n",
        "            if len(batch_data) < batch_size:\n",
        "                break\n",
        "\n",
        "        # Keep all essential columns - no filtering\n",
        "        df = spark.createDataFrame(pd.DataFrame(all_data)[['post_id', 'street_name', 'street_num', 'latitude', 'longitude', 'analysis_neighborhood']])\n",
        "        df = df.withColumn(\"latitude\", col(\"latitude\").cast(\"float\")).withColumn(\"longitude\", col(\"longitude\").cast(\"float\"))\n",
        "\n",
        "        # Remove any NULL filtering - keep all data\n",
        "        df = df.filter(col(\"latitude\").isNotNull() & col(\"longitude\").isNotNull() & col(\"analysis_neighborhood\").isNotNull())\n",
        "\n",
        "        print(f\"✅ Loaded {df.count()} parking meters\")\n",
        "        return df\n",
        "    except requests.RequestException as e:\n",
        "        print(f\"❌ Error loading data: {e}\")\n",
        "        return None\n",
        "    except Exception as e:\n",
        "        print(f\"❌ Unexpected error in load_parking_meter_data: {e}\")\n",
        "        return None\n",
        "\n",
        "def validate_data(df):\n",
        "    \"\"\"Validate parking meter data for completeness.\"\"\"\n",
        "    if df is None:\n",
        "        print(\"❌ DataFrame is None\")\n",
        "        return False\n",
        "    required_columns = ['post_id', 'street_name', 'street_num', 'latitude', 'longitude', 'analysis_neighborhood']\n",
        "    missing_cols = [col for col in required_columns if col not in df.columns]\n",
        "    if missing_cols:\n",
        "        print(f\"❌ Missing columns: {missing_cols}\")\n",
        "        return False\n",
        "    return True\n",
        "\n",
        "def load_event_data():\n",
        "    \"\"\"Load realistic event data with moderate impacts on parking demand.\"\"\"\n",
        "    events = [\n",
        "        # Moderate impact events - more realistic than large spikes\n",
        "        {\"date\": \"2025-05-27\", \"hour\": 19, \"neighborhood\": \"Mission\", \"impact\": 0.08},        # Small concert\n",
        "        {\"date\": \"2025-05-28\", \"hour\": 20, \"neighborhood\": \"Downtown\", \"impact\": 0.12},       # Business event\n",
        "        {\"date\": \"2025-05-27\", \"hour\": 18, \"neighborhood\": \"SoMa\", \"impact\": 0.10},          # Tech meetup\n",
        "        {\"date\": \"2025-05-28\", \"hour\": 19, \"neighborhood\": \"Castro\", \"impact\": 0.06},        # Community event\n",
        "        {\"date\": \"2025-05-27\", \"hour\": 20, \"neighborhood\": \"Marina\", \"impact\": 0.08},        # Restaurant event\n",
        "        {\"date\": \"2025-05-28\", \"hour\": 18, \"neighborhood\": \"Nob Hill\", \"impact\": 0.10},      # Hotel conference\n",
        "\n",
        "        # Weekend events with slightly higher impact\n",
        "        {\"date\": \"2025-05-31\", \"hour\": 14, \"neighborhood\": \"Chinatown\", \"impact\": 0.15},     # Saturday festival\n",
        "        {\"date\": \"2025-05-31\", \"hour\": 20, \"neighborhood\": \"North Beach\", \"impact\": 0.12},   # Saturday nightlife\n",
        "        {\"date\": \"2025-06-01\", \"hour\": 13, \"neighborhood\": \"Marina\", \"impact\": 0.18},        # Sunday farmers market\n",
        "        {\"date\": \"2025-06-01\", \"hour\": 15, \"neighborhood\": \"Golden Gate Park\", \"impact\": 0.20}, # Sunday park event\n",
        "\n",
        "        # Negative impact events (reduced demand)\n",
        "        {\"date\": \"2025-05-29\", \"hour\": 8, \"neighborhood\": \"Financial District\", \"impact\": -0.15}, # Holiday - less business\n",
        "        {\"date\": \"2025-05-30\", \"hour\": 16, \"neighborhood\": \"SoMa\", \"impact\": -0.10},         # Early Friday closure\n",
        "    ]\n",
        "    return spark.createDataFrame(pd.DataFrame(events))\n",
        "\n",
        "def simulate_occupancy_batch(df, target_date, target_hour):\n",
        "    \"\"\"Simulate realistic occupancy with guaranteed availability across the city.\"\"\"\n",
        "    if df is None:\n",
        "        print(\"❌ Input DataFrame is None\")\n",
        "        return None\n",
        "\n",
        "    try:\n",
        "        from pyspark.sql.functions import when, rand, lit, dayofweek\n",
        "\n",
        "        # Create timestamp for all meters\n",
        "        target_timestamp = datetime.combine(target_date, datetime.min.time()) + timedelta(hours=target_hour)\n",
        "\n",
        "        # Add timestamp to ALL meters (no sampling)\n",
        "        full_df = df.withColumn(\"timestamp\", lit(target_timestamp))\n",
        "\n",
        "        # Join with event data\n",
        "        event_df = load_event_data()\n",
        "        full_df = full_df.join(event_df,\n",
        "                              (col(\"timestamp\").cast(\"date\") == col(\"date\")) &\n",
        "                              (col(\"analysis_neighborhood\") == col(\"neighborhood\")),\n",
        "                              \"left_outer\")\n",
        "\n",
        "        # FIXED: More realistic hourly occupancy patterns with guaranteed availability\n",
        "        realistic_hour_occupancy = {\n",
        "            # Late night/Early morning - lower occupancy, more availability\n",
        "            0: 0.15,   # 15% occupied, 85% available\n",
        "            1: 0.12,   # 12% occupied, 88% available\n",
        "            2: 0.10,   # 10% occupied, 90% available\n",
        "            3: 0.08,   # 8% occupied, 92% available\n",
        "            4: 0.10,   # 10% occupied, 90% available\n",
        "            5: 0.15,   # 15% occupied, 85% available\n",
        "\n",
        "            # Morning - gradual realistic increase\n",
        "            6: 0.25,   # 25% occupied, 75% available\n",
        "            7: 0.40,   # 40% occupied, 60% available\n",
        "            8: 0.55,   # 55% occupied, 45% available\n",
        "            9: 0.65,   # 65% occupied, 35% available\n",
        "\n",
        "            # Business hours - high but never complete occupancy\n",
        "            10: 0.70,  # 70% occupied, 30% available\n",
        "            11: 0.75,  # 75% occupied, 25% available\n",
        "            12: 0.78,  # 78% occupied, 22% available (peak)\n",
        "            13: 0.75,  # 75% occupied, 25% available\n",
        "            14: 0.72,  # 72% occupied, 28% available\n",
        "            15: 0.68,  # 68% occupied, 32% available\n",
        "\n",
        "            # Afternoon/Evening - gradual decrease\n",
        "            16: 0.60,  # 60% occupied, 40% available\n",
        "            17: 0.50,  # 50% occupied, 50% available (turnover)\n",
        "            18: 0.45,  # 45% occupied, 55% available\n",
        "            19: 0.40,  # 40% occupied, 60% available\n",
        "            20: 0.35,  # 35% occupied, 65% available\n",
        "            21: 0.30,  # 30% occupied, 70% available\n",
        "            22: 0.25,  # 25% occupied, 75% available\n",
        "            23: 0.20   # 20% occupied, 80% available\n",
        "        }\n",
        "\n",
        "        # Get base occupancy rate for the hour\n",
        "        base_occupancy = realistic_hour_occupancy.get(target_hour, 0.4)\n",
        "\n",
        "        # FIXED: More realistic neighborhood multipliers that don't cause 100% occupancy\n",
        "        neighborhood_multipliers = {\n",
        "            # High-demand areas - but not extreme\n",
        "            'Financial District/South Beach': 1.3,\n",
        "            'South of Market': 1.25,\n",
        "            'Downtown': 1.25,\n",
        "            'Mission Bay': 1.2,\n",
        "            'Tenderloin': 1.15,\n",
        "\n",
        "            # Medium-high demand\n",
        "            'Nob Hill': 1.1,\n",
        "            'North Beach': 1.1,\n",
        "            'Mission': 1.08,\n",
        "            'Castro/Upper Market': 1.05,\n",
        "            'Hayes Valley': 1.05,\n",
        "\n",
        "            # Medium demand\n",
        "            'Chinatown': 1.0,\n",
        "            'Marina': 1.0,\n",
        "            'Russian Hill': 1.0,\n",
        "            'Pacific Heights': 1.0,\n",
        "            'Potrero Hill': 0.95,\n",
        "\n",
        "            # Lower demand areas\n",
        "            'Inner Richmond': 0.85,\n",
        "            'Inner Sunset': 0.80,\n",
        "            'Outer Richmond': 0.75,\n",
        "            'Sunset/Parkside': 0.70,\n",
        "            'Bernal Heights': 0.75,\n",
        "            'Excelsior': 0.65,\n",
        "            'Visitacion Valley': 0.60,\n",
        "            'Bayview Hunters Point': 0.65,\n",
        "            'Outer Mission': 0.70\n",
        "        }\n",
        "\n",
        "        # Apply neighborhood-specific adjustments with fallback\n",
        "        neighborhood_expr = lit(0.9)  # default multiplier for unlisted neighborhoods\n",
        "        for neighborhood, multiplier in neighborhood_multipliers.items():\n",
        "            neighborhood_expr = when(col(\"analysis_neighborhood\") == neighborhood,\n",
        "                                   lit(multiplier)).otherwise(neighborhood_expr)\n",
        "\n",
        "        full_df = full_df.withColumn(\"neighborhood_multiplier\", neighborhood_expr)\n",
        "\n",
        "        # Calculate adjusted occupancy probability\n",
        "        full_df = full_df.withColumn(\"occupancy_prob\",\n",
        "                                   col(\"neighborhood_multiplier\") * lit(base_occupancy) +\n",
        "                                   when(col(\"impact\").isNotNull(), col(\"impact\")).otherwise(0.0))\n",
        "\n",
        "        # CRITICAL FIX: Cap probability to ensure availability ALWAYS exists\n",
        "        # Never allow more than 85% occupancy to guarantee spots are available\n",
        "        full_df = full_df.withColumn(\"occupancy_prob\",\n",
        "                                   when(col(\"occupancy_prob\") > 0.85, 0.85)  # Max 85% occupied = 15% available\n",
        "                                   .when(col(\"occupancy_prob\") < 0.05, 0.05)  # Min 5% occupied\n",
        "                                   .otherwise(col(\"occupancy_prob\")))\n",
        "\n",
        "        # FIXED: Day-of-week variations that are more moderate\n",
        "        is_weekend = target_timestamp.weekday() >= 5\n",
        "\n",
        "        if is_weekend:\n",
        "            # Weekend adjustments - more moderate\n",
        "            weekend_adjustments = {\n",
        "                6: 0.8,   # Less early morning activity\n",
        "                7: 0.85,  #\n",
        "                8: 0.9,   #\n",
        "                9: 0.95,  #\n",
        "                10: 1.05, # Weekend activity picks up later\n",
        "                11: 1.1,  #\n",
        "                12: 1.15, # Weekend peak but moderate\n",
        "                13: 1.1,  #\n",
        "                14: 1.05, #\n",
        "                15: 1.0,  #\n",
        "                16: 0.95, #\n",
        "                17: 0.9,  #\n",
        "                18: 1.05, # Weekend dinner\n",
        "                19: 1.1,  #\n",
        "                20: 1.05, #\n",
        "                21: 1.0   #\n",
        "            }\n",
        "            weekend_mult = weekend_adjustments.get(target_hour, 1.0)\n",
        "            full_df = full_df.withColumn(\"occupancy_prob\", col(\"occupancy_prob\") * lit(weekend_mult))\n",
        "\n",
        "            # RE-CAP after weekend adjustment\n",
        "            full_df = full_df.withColumn(\"occupancy_prob\",\n",
        "                                       when(col(\"occupancy_prob\") > 0.85, 0.85)\n",
        "                                       .otherwise(col(\"occupancy_prob\")))\n",
        "\n",
        "        # FIXED: Use multiple random seeds to create realistic distribution\n",
        "        # This prevents all meters from having similar occupancy patterns\n",
        "        full_df = full_df.withColumn(\"random_val\", rand())  # Remove fixed seed for more variation\n",
        "        full_df = full_df.withColumn(\"occupied\",\n",
        "                                   when(col(\"random_val\") < col(\"occupancy_prob\"), 1).otherwise(0))\n",
        "\n",
        "        # Add time-based columns\n",
        "        full_df = full_df.withColumn(\"hour\", lit(target_hour))\n",
        "        full_df = full_df.withColumn(\"dayofweek\", dayofweek(col(\"timestamp\")))\n",
        "\n",
        "        # Clean up intermediate columns\n",
        "        full_df = full_df.drop(\"date\", \"neighborhood\", \"impact\",\n",
        "                             \"neighborhood_multiplier\", \"occupancy_prob\", \"random_val\")\n",
        "\n",
        "        # Calculate and display statistics\n",
        "        total_count = full_df.count()\n",
        "        occupied_count = full_df.filter(col(\"occupied\") == 1).count()\n",
        "        available_count = total_count - occupied_count\n",
        "        occupancy_rate = occupied_count / total_count if total_count > 0 else 0\n",
        "\n",
        "        print(f\"✅ Realistic occupancy simulation complete:\")\n",
        "        print(f\"   📊 Total meters: {total_count:,}\")\n",
        "        print(f\"   🚗 Occupied: {occupied_count:,} ({occupancy_rate:.1%})\")\n",
        "        print(f\"   🅿️ Available: {available_count:,} ({1-occupancy_rate:.1%})\")\n",
        "        print(f\"   ⏰ Time: {target_hour}:00 ({'Weekend' if is_weekend else 'Weekday'})\")\n",
        "\n",
        "        # VERIFICATION: Ensure we have availability in multiple neighborhoods\n",
        "        neighborhood_stats = full_df.groupBy(\"analysis_neighborhood\").agg(\n",
        "            count(\"*\").alias(\"total\"),\n",
        "            count(when(col(\"occupied\") == 0, 1)).alias(\"available\")\n",
        "        ).collect()\n",
        "\n",
        "        neighborhoods_with_spots = sum(1 for row in neighborhood_stats if row.available > 0)\n",
        "        print(f\"   🏘️ Neighborhoods with available spots: {neighborhoods_with_spots}\")\n",
        "\n",
        "        # Warning if too few neighborhoods have availability\n",
        "        if neighborhoods_with_spots < 5:\n",
        "            print(\"   ⚠️ Warning: Very few neighborhoods have availability - this may be unrealistic\")\n",
        "\n",
        "        return full_df\n",
        "\n",
        "    except Exception as e:\n",
        "        print(f\"❌ Error in simulate_occupancy_batch: {e}\")\n",
        "        import traceback\n",
        "        traceback.print_exc()\n",
        "        return None\n",
        "\n",
        "def train_improved_predictor(df):\n",
        "    \"\"\"FIXED: Train model that properly learns occupancy patterns without extreme predictions.\"\"\"\n",
        "    try:\n",
        "        # Use ALL available data for training\n",
        "        pandas_df = df.select(\"hour\", \"dayofweek\", \"latitude\", \"longitude\", \"occupied\").toPandas()\n",
        "\n",
        "        features = ['hour', 'dayofweek', 'latitude', 'longitude']\n",
        "        X = pandas_df[features].astype(float)\n",
        "        y = pandas_df['occupied'].astype(int)\n",
        "\n",
        "        print(f\"🧠 Training improved model: {len(X)} samples\")\n",
        "\n",
        "        # Check class distribution\n",
        "        occupied_rate = y.mean()\n",
        "        print(f\"📊 Training data: {occupied_rate:.1%} occupied, {1-occupied_rate:.1%} available\")\n",
        "\n",
        "        # Train-test split with stratification to maintain class balance\n",
        "        X_train, X_test, y_train, y_test = train_test_split(\n",
        "            X, y, test_size=0.2, random_state=42, stratify=y\n",
        "        )\n",
        "\n",
        "        # FIXED: Better model architecture with dropout to prevent overfitting\n",
        "        model = Sequential([\n",
        "            Dense(64, activation='relu', input_shape=(4,)),\n",
        "            Dropout(0.3),  # Prevent overfitting\n",
        "            Dense(32, activation='relu'),\n",
        "            Dropout(0.2),\n",
        "            Dense(16, activation='relu'),\n",
        "            Dense(1, activation='sigmoid')  # Output probability of being occupied\n",
        "        ])\n",
        "\n",
        "        # FIXED: Better compilation with class weights to handle imbalanced data\n",
        "        # Calculate class weights to handle imbalanced dataset\n",
        "        from sklearn.utils.class_weight import compute_class_weight\n",
        "        classes = np.unique(y_train)\n",
        "        class_weights = compute_class_weight('balanced', classes=classes, y=y_train)\n",
        "        class_weight_dict = dict(zip(classes, class_weights))\n",
        "\n",
        "        model.compile(\n",
        "            optimizer='adam',\n",
        "            loss='binary_crossentropy',\n",
        "            metrics=['accuracy', 'precision', 'recall']\n",
        "        )\n",
        "\n",
        "        # Train with early stopping and class weights\n",
        "        history = model.fit(\n",
        "            X_train, y_train,\n",
        "            validation_data=(X_test, y_test),\n",
        "            epochs=30,  # Reduced epochs to prevent overfitting\n",
        "            batch_size=256,\n",
        "            verbose=1,\n",
        "            class_weight=class_weight_dict,  # Handle class imbalance\n",
        "            callbacks=[EarlyStopping(patience=5, monitor='val_loss', restore_best_weights=True)]\n",
        "        )\n",
        "\n",
        "        # Evaluate with detailed metrics\n",
        "        _, accuracy, precision, recall = model.evaluate(X_test, y_test, verbose=0)\n",
        "        print(f\"🎯 Model Performance:\")\n",
        "        print(f\"   Accuracy: {accuracy:.3f}\")\n",
        "        print(f\"   Precision: {precision:.3f}\")\n",
        "        print(f\"   Recall: {recall:.3f}\")\n",
        "\n",
        "        # Test prediction distribution on validation set\n",
        "        val_predictions = model.predict(X_test, verbose=0)\n",
        "        val_pred_rate = (val_predictions > 0.5).mean()\n",
        "        print(f\"   Predicted occupancy rate: {val_pred_rate:.1%}\")\n",
        "\n",
        "        return model\n",
        "    except Exception as e:\n",
        "        print(f\"❌ Error in train_improved_predictor: {e}\")\n",
        "        import traceback\n",
        "        traceback.print_exc()\n",
        "        return None\n",
        "\n",
        "def predict_availability_fixed(model, df, user_time, neighborhood):\n",
        "    \"\"\"FIXED: Properly interpret model predictions and ensure realistic availability.\"\"\"\n",
        "    try:\n",
        "        # Get meters for the specific neighborhood and time\n",
        "        input_df = df.filter(\n",
        "            (col(\"timestamp\") == user_time) &\n",
        "            (col(\"analysis_neighborhood\") == neighborhood)\n",
        "        ).select(\"hour\", \"dayofweek\", \"latitude\", \"longitude\", \"street_name\", \"street_num\", \"post_id\", \"occupied\")\n",
        "\n",
        "        pandas_input = input_df.toPandas()\n",
        "        if pandas_input.empty:\n",
        "            print(f\"❌ No meters found for {neighborhood}\")\n",
        "            return None\n",
        "\n",
        "        # Get actual occupancy from simulation for comparison\n",
        "        actual_available = (pandas_input['occupied'] == 0).sum()\n",
        "        actual_occupied = (pandas_input['occupied'] == 1).sum()\n",
        "        actual_rate = actual_occupied / len(pandas_input)\n",
        "\n",
        "        print(f\"📊 {neighborhood} - Actual: {actual_occupied} occupied, {actual_available} available ({actual_rate:.1%} occupied)\")\n",
        "\n",
        "        # Make predictions using the ML model\n",
        "        X = pandas_input[['hour', 'dayofweek', 'latitude', 'longitude']].astype(float)\n",
        "        occupation_probabilities = model.predict(X, verbose=0).flatten()\n",
        "\n",
        "        # CRITICAL FIX: Use a dynamic threshold based on the expected occupancy rate\n",
        "        # Instead of a fixed 0.4 or 0.5 threshold, use the median probability\n",
        "        dynamic_threshold = np.percentile(occupation_probabilities, 50)  # 50th percentile\n",
        "\n",
        "        # Ensure threshold is reasonable (between 0.3 and 0.7)\n",
        "        dynamic_threshold = max(0.3, min(0.7, dynamic_threshold))\n",
        "\n",
        "        print(f\"🎯 Using dynamic threshold: {dynamic_threshold:.3f}\")\n",
        "        print(f\"📈 Probability range: {occupation_probabilities.min():.3f} to {occupation_probabilities.max():.3f}\")\n",
        "\n",
        "        # Predict availability (0 = available, 1 = occupied)\n",
        "        predicted_occupied = (occupation_probabilities >= dynamic_threshold).astype(int)\n",
        "        predicted_available = 1 - predicted_occupied\n",
        "\n",
        "        # Calculate confidence as distance from threshold\n",
        "        confidence_scores = np.abs(occupation_probabilities - dynamic_threshold)\n",
        "\n",
        "        # Create results dataframe\n",
        "        result_df = pandas_input.copy()\n",
        "        result_df['predicted_available'] = predicted_available\n",
        "        result_df['occupation_probability'] = occupation_probabilities\n",
        "        result_df['confidence'] = confidence_scores\n",
        "\n",
        "        # Filter for predicted available spots\n",
        "        available_spots = result_df[result_df['predicted_available'] == 1].copy()\n",
        "\n",
        "        # Sort by confidence (higher confidence first)\n",
        "        available_spots = available_spots.sort_values('confidence', ascending=False)\n",
        "\n",
        "        predicted_available_count = len(available_spots)\n",
        "        predicted_occupied_count = len(result_df) - predicted_available_count\n",
        "        predicted_rate = predicted_occupied_count / len(result_df)\n",
        "\n",
        "        print(f\"🤖 ML Prediction: {predicted_occupied_count} occupied, {predicted_available_count} available ({predicted_rate:.1%} occupied)\")\n",
        "\n",
        "        # Quality check: If we predict 0 available spots but simulation shows availability, adjust\n",
        "        if predicted_available_count == 0 and actual_available > 0:\n",
        "            print(\"🔧 Adjusting: ML predicted 0 available but simulation shows availability\")\n",
        "            # Take the spots with lowest occupation probability as available\n",
        "            n_to_flip = min(5, actual_available)  # Take up to 5 spots or actual available, whichever is smaller\n",
        "            lowest_prob_indices = result_df.nsmallest(n_to_flip, 'occupation_probability').index\n",
        "\n",
        "            available_spots = result_df.loc[lowest_prob_indices].copy()\n",
        "            available_spots['predicted_available'] = 1\n",
        "            available_spots['confidence'] = 1 - available_spots['occupation_probability']\n",
        "\n",
        "            print(f\"🔧 Adjusted to show {len(available_spots)} available spots\")\n",
        "\n",
        "        return available_spots if len(available_spots) > 0 else None\n",
        "\n",
        "    except Exception as e:\n",
        "        print(f\"❌ Error in predict_availability_fixed: {e}\")\n",
        "        import traceback\n",
        "        traceback.print_exc()\n",
        "        return None\n",
        "\n",
        "def recommend_spots(available_df, destination_lat, destination_lon, top_n=10):\n",
        "    \"\"\"Recommend top parking spots based on distance - increased default to 10.\"\"\"\n",
        "    if available_df is None or len(available_df) == 0:\n",
        "        print(\"❌ No available spots found\")\n",
        "        return None\n",
        "\n",
        "    try:\n",
        "        # Calculate distances for ALL available spots\n",
        "        available_df['distance'] = available_df.apply(\n",
        "            lambda row: geodesic((row['latitude'], row['longitude']),\n",
        "                               (destination_lat, destination_lon)).meters, axis=1)\n",
        "\n",
        "        # Get top recommendations from full dataset\n",
        "        top_spots = available_df.nsmallest(top_n, 'distance')\n",
        "\n",
        "        print(f\"✅ Top {len(top_spots)} recommended spots from {len(available_df)} available:\")\n",
        "        for i, (_, row) in enumerate(top_spots.iterrows(), 1):\n",
        "            print(f\"  {i}. {row['street_num']} {row['street_name']} ({row['distance']:.0f}m away, confidence: {row['confidence']:.2f})\")\n",
        "\n",
        "        return top_spots\n",
        "    except Exception as e:\n",
        "        print(f\"❌ Error in recommend_spots: {e}\")\n",
        "        return None\n",
        "\n",
        "def create_comprehensive_map(spots_df, destination_lat, destination_lon, map_filename='parking_map_fixed_ml.html'):\n",
        "    \"\"\"Create comprehensive map with ALL available spots and destination marker.\"\"\"\n",
        "    if spots_df is None or len(spots_df) == 0:\n",
        "        print(\"❌ No spots to display on map\")\n",
        "        return\n",
        "\n",
        "    try:\n",
        "        # Center on destination\n",
        "        center_lat = destination_lat\n",
        "        center_lon = destination_lon\n",
        "\n",
        "        m = folium.Map(location=[center_lat, center_lon], zoom_start=14)\n",
        "\n",
        "        # Add destination marker\n",
        "        folium.Marker(\n",
        "            location=[destination_lat, destination_lon],\n",
        "            popup=\"🎯 Your Destination\",\n",
        "            icon=folium.Icon(color='red', icon='star', prefix='fa')\n",
        "        ).add_to(m)\n",
        "\n",
        "        # Add markers for ALL available spots with color coding by distance\n",
        "        for i, (_, row) in enumerate(spots_df.iterrows()):\n",
        "            # Color code by distance\n",
        "            if row['distance'] <= 100:\n",
        "                color = 'green'\n",
        "            elif row['distance'] <= 300:\n",
        "                color = 'orange'\n",
        "            else:\n",
        "                color = 'blue'\n",
        "\n",
        "            folium.Marker(\n",
        "                location=[row['latitude'], row['longitude']],\n",
        "                popup=f\"#{i+1}: {row['street_num']} {row['street_name']}<br>Distance: {row['distance']:.0f}m<br>Confidence: {row['confidence']:.2f}<br>Prob: {row.get('occupation_probability', 'N/A'):.2f}\",\n",
        "                icon=folium.Icon(color=color, icon='car', prefix='fa')\n",
        "            ).add_to(m)\n",
        "\n",
        "        # Add a circle around destination to show walking distance\n",
        "        folium.Circle(\n",
        "            location=[destination_lat, destination_lon],\n",
        "            radius=200,  # 200m walking radius\n",
        "            popup=\"200m walking radius\",\n",
        "            color='red',\n",
        "            fill=True,\n",
        "            fillOpacity=0.1\n",
        "        ).add_to(m)\n",
        "\n",
        "        m.save(map_filename)\n",
        "\n",
        "        print(f\"✅ Map saved to '{map_filename}' with {len(spots_df)} parking spots\")\n",
        "        files.download(map_filename)\n",
        "        display(FileLink(map_filename))\n",
        "\n",
        "        return m\n",
        "    except Exception as e:\n",
        "        print(f\"❌ Error creating map: {e}\")\n",
        "        return None\n",
        "\n",
        "def comprehensive_parking_search_ml_fixed(neighborhood, search_date, search_hour, dest_lat, dest_lon):\n",
        "    \"\"\"FIXED: Comprehensive parking search with properly working ML model.\"\"\"\n",
        "    print(f\"🔍 ML-FIXED Search: {neighborhood} on {search_date} at {search_hour}:00\")\n",
        "    print(\"📊 Loading parking meter dataset...\")\n",
        "\n",
        "    # Load ALL data without limits\n",
        "    static_data = load_parking_meter_data()\n",
        "    if not validate_data(static_data):\n",
        "        return None\n",
        "\n",
        "    # Generate realistic occupancy for ALL meters\n",
        "    print(\"🎯 Generating realistic occupancy patterns...\")\n",
        "    occupancy_df = simulate_occupancy_batch(static_data, search_date, search_hour)\n",
        "    if occupancy_df is None:\n",
        "        return None\n",
        "\n",
        "    # Train improved ML model\n",
        "    print(\"🧠 Training improved ML model...\")\n",
        "    model = train_improved_predictor(occupancy_df)\n",
        "    if model is None:\n",
        "        return None\n",
        "\n",
        "    # Use FIXED prediction method\n",
        "    user_time = datetime.combine(search_date, datetime.min.time()) + timedelta(hours=search_hour)\n",
        "    available_spots = predict_availability_fixed(model, occupancy_df, user_time, neighborhood)\n",
        "\n",
        "    # If no spots in target neighborhood, search nearby neighborhoods\n",
        "    if available_spots is None or len(available_spots) == 0:\n",
        "        print(f\"❌ No available spots in {neighborhood}\")\n",
        "        print(\"🔍 Searching nearby neighborhoods...\")\n",
        "\n",
        "        # Get neighborhoods with most similar characteristics\n",
        "        all_neighborhoods = occupancy_df.select(\"analysis_neighborhood\").distinct().rdd.flatMap(lambda x: x).collect()\n",
        "        all_available = []\n",
        "\n",
        "        for hood in all_neighborhoods[:10]:  # Check first 10 neighborhoods\n",
        "            hood_spots = predict_availability_fixed(model, occupancy_df, user_time, hood)\n",
        "            if hood_spots is not None and len(hood_spots) > 0:\n",
        "                hood_spots['neighborhood'] = hood\n",
        "                all_available.append(hood_spots)\n",
        "\n",
        "        if all_available:\n",
        "            available_spots = pd.concat(all_available, ignore_index=True)\n",
        "            print(f\"✅ Found {len(available_spots)} total available spots across multiple neighborhoods\")\n",
        "        else:\n",
        "            print(\"❌ No available spots found in searched neighborhoods\")\n",
        "            return None\n",
        "\n",
        "    if available_spots is not None and len(available_spots) > 0:\n",
        "        # Get comprehensive recommendations\n",
        "        recommendations = recommend_spots(available_spots, dest_lat, dest_lon, top_n=15)\n",
        "\n",
        "        # Create comprehensive map\n",
        "        if recommendations is not None:\n",
        "            map_filename = f'ml_fixed_parking_map_{neighborhood}_{search_date}_{search_hour}.html'\n",
        "            create_comprehensive_map(recommendations, dest_lat, dest_lon, map_filename)\n",
        "\n",
        "        return recommendations\n",
        "    else:\n",
        "        print(\"❌ No available spots found\")\n",
        "        return None\n",
        "\n",
        "def interactive_app_ml_fixed():\n",
        "    \"\"\"ML-FIXED interactive app with properly working machine learning model.\"\"\"\n",
        "    print(\"📊 Loading dataset to get all neighborhoods...\")\n",
        "\n",
        "    # Load full dataset to get all neighborhoods\n",
        "    full_data = load_parking_meter_data()\n",
        "    if full_data is None:\n",
        "        return\n",
        "\n",
        "    all_neighborhoods = sorted(full_data.select(\"analysis_neighborhood\").distinct().rdd.flatMap(lambda x: x).collect())\n",
        "    print(f\"✅ Found {len(all_neighborhoods)} neighborhoods in dataset\")\n",
        "\n",
        "    neighborhood_dropdown = widgets.Dropdown(options=all_neighborhoods, description='Neighborhood:')\n",
        "    date_picker = widgets.DatePicker(description='Date:', value=date.today())\n",
        "    hour_slider = widgets.IntSlider(description='Hour:', value=10, min=0, max=23)\n",
        "    lat_input = widgets.FloatText(description='Dest. Latitude:', value=37.7749)\n",
        "    lon_input = widgets.FloatText(description='Dest. Longitude:', value=-122.4194)\n",
        "    search_button = widgets.Button(description='🔍 Find Parking', button_style='success')\n",
        "    output = widgets.Output()\n",
        "\n",
        "    def on_search_click(b):\n",
        "        with output:\n",
        "            output.clear_output()\n",
        "            try:\n",
        "                results = comprehensive_parking_search_ml_fixed(\n",
        "                    neighborhood_dropdown.value,\n",
        "                    date_picker.value,\n",
        "                    hour_slider.value,\n",
        "                    lat_input.value,\n",
        "                    lon_input.value\n",
        "                )\n",
        "                if results is not None:\n",
        "                    print(\"🎉 Search completed successfully!\")\n",
        "                else:\n",
        "                    print(\"❌ Search completed but no results found\")\n",
        "            except Exception as e:\n",
        "                print(f\"❌ Error during search: {e}\")\n",
        "                import traceback\n",
        "                traceback.print_exc()\n",
        "\n",
        "    search_button.on_click(on_search_click)\n",
        "\n",
        "    # Display the interface\n",
        "    display(widgets.VBox([\n",
        "        widgets.HTML(\"<h2>🅿️ Smart Parking Finder - ML Enhanced</h2>\"),\n",
        "        neighborhood_dropdown,\n",
        "        date_picker,\n",
        "        hour_slider,\n",
        "        lat_input,\n",
        "        lon_input,\n",
        "        search_button,\n",
        "        output\n",
        "    ]))\n",
        "\n",
        "def main():\n",
        "    \"\"\"Main function to demonstrate the complete parking finder system.\"\"\"\n",
        "    print(\"🅿️ Smart Parking Finder with Fixed ML Implementation\")\n",
        "    print(\"=\" * 60)\n",
        "\n",
        "    try:\n",
        "        # Option 1: Run interactive app\n",
        "        print(\"Starting interactive app...\")\n",
        "        interactive_app_ml_fixed()\n",
        "\n",
        "    except Exception as e:\n",
        "        print(f\"❌ Error in main: {e}\")\n",
        "\n",
        "        # Option 2: Run a sample search if interactive fails\n",
        "        print(\"\\n🔧 Running sample search instead...\")\n",
        "        sample_results = comprehensive_parking_search_ml_fixed(\n",
        "            neighborhood=\"Mission\",\n",
        "            search_date=date.today(),\n",
        "            search_hour=14,\n",
        "            dest_lat=37.7599,\n",
        "            dest_lon=-122.4148\n",
        "        )\n",
        "\n",
        "        if sample_results is not None:\n",
        "            print(\"✅ Sample search completed successfully!\")\n",
        "        else:\n",
        "            print(\"❌ Sample search failed\")\n",
        "\n",
        "def cleanup_resources():\n",
        "    \"\"\"Clean up Spark resources.\"\"\"\n",
        "    try:\n",
        "        spark.stop()\n",
        "        gc.collect()\n",
        "        print(\"✅ Resources cleaned up\")\n",
        "    except:\n",
        "        pass\n",
        "\n",
        "# Ensure cleanup happens at end\n",
        "import atexit\n",
        "atexit.register(cleanup_resources)\n",
        "\n",
        "# Run the application\n",
        "if __name__ == \"__main__\":\n",
        "    main()"
      ]
    },
    {
      "cell_type": "markdown",
      "source": [
        "Destination Latitude and Longitude Eaxmple:\n",
        "\n",
        "* California Academy of Sciences: 37.7699° N, 122.4661° W\n",
        "* UC Law San Francisco: 37.7811° N, 122.4158° W"
      ],
      "metadata": {
        "id": "-QA5Tq2J-fre"
      }
    }
  ]
}